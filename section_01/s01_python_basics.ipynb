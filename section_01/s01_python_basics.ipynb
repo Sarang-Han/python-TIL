{
 "cells": [
  {
   "cell_type": "markdown",
   "id": "d8f8b691",
   "metadata": {},
   "source": [
    "# Coding test TIL\n",
    "\n",
    "- **Course**: 파이썬 알고리즘 문제풀이 입문\n",
    "- **Section**: 1. 파이썬 기초 문법\n",
    "- **Date**: 2025.08.03 ~\n",
    "\n",
    "---"
   ]
  },
  {
   "cell_type": "markdown",
   "id": "299bccac",
   "metadata": {},
   "source": [
    "## 1. 변수와 출력 함수"
   ]
  },
  {
   "cell_type": "markdown",
   "id": "b7ad4df2",
   "metadata": {},
   "source": [
    "### 변수명 정하기\n",
    "\n",
    "1) 영문과 숫자, _ 로 이루어진다\n",
    "2) 대소문자를 구분한다\n",
    "3) 숫자나 _ 로 시작한다\n",
    "4) 특수문자를 사용하면 안된다\n",
    "5) 키워드를 사용하면 안된다"
   ]
  },
  {
   "cell_type": "code",
   "execution_count": 3,
   "id": "3f7896ab",
   "metadata": {},
   "outputs": [
    {
     "name": "stdout",
     "output_type": "stream",
     "text": [
      "1 1 3\n"
     ]
    }
   ],
   "source": [
    "# 대소문자 구분\n",
    "a = 1\n",
    "A = 1\n",
    "_ = 3\n",
    "print(a, A, _)"
   ]
  },
  {
   "cell_type": "code",
   "execution_count": 7,
   "id": "073e7bf7",
   "metadata": {},
   "outputs": [
    {
     "name": "stdout",
     "output_type": "stream",
     "text": [
      "True\n",
      "1 2 3\n",
      "1 3 2\n"
     ]
    }
   ],
   "source": [
    "# 등호\n",
    "print(a == 1)\n",
    "\n",
    "# 대입\n",
    "a, b, c = 1, 2, 3\n",
    "print(a, b, c)\n",
    "\n",
    "# 값 교환\n",
    "b, c = c, b\n",
    "print(a, b, c)"
   ]
  },
  {
   "cell_type": "code",
   "execution_count": 12,
   "id": "706d8c32",
   "metadata": {},
   "outputs": [
    {
     "name": "stdout",
     "output_type": "stream",
     "text": [
      "12.123451234512345\n",
      "<class 'float'>\n"
     ]
    }
   ],
   "source": [
    "# 변수 타입 (실수형)\n",
    "a = 12.1234512345123451234512345\n",
    "print(a)\n",
    "print(type(a)) # <class 'float'>"
   ]
  },
  {
   "cell_type": "code",
   "execution_count": 18,
   "id": "22a529fe",
   "metadata": {},
   "outputs": [
    {
     "name": "stdout",
     "output_type": "stream",
     "text": [
      "123\n",
      "1, 2, 3\n",
      "1\n",
      "2\n",
      "3\n",
      "123"
     ]
    }
   ],
   "source": [
    "# 출력\n",
    "a, b, c = 1, 2, 3\n",
    "print(a, b, c, sep='')\n",
    "print(a, b, c, sep=', ')\n",
    "\n",
    "print(a, b, c, sep='\\n')\n",
    "\n",
    "print(a, end='') # 줄바꿈 제거\n",
    "print(b, end='')\n",
    "print(c, end='')"
   ]
  },
  {
   "cell_type": "markdown",
   "id": "266d5263",
   "metadata": {},
   "source": [
    "## 2. 변수 입력과 연산자"
   ]
  },
  {
   "cell_type": "code",
   "execution_count": 23,
   "id": "35e55235",
   "metadata": {},
   "outputs": [
    {
     "name": "stdout",
     "output_type": "stream",
     "text": [
      "123\n"
     ]
    }
   ],
   "source": [
    "# 기본 입력\n",
    "a=input(\"숫자를 입력하세요: \")\n",
    "print(a)"
   ]
  },
  {
   "cell_type": "code",
   "execution_count": 31,
   "id": "17eacbf8",
   "metadata": {},
   "outputs": [
    {
     "name": "stdout",
     "output_type": "stream",
     "text": [
      "<class 'str'>\n",
      "23\n",
      "2\n",
      "<class 'int'>\n",
      "2\n"
     ]
    }
   ],
   "source": [
    "c, d= input().split()\n",
    "print(type(c)) # <class 'str'>\n",
    "print(c+d)\n",
    "\n",
    "c = int(c)\n",
    "print(type(c)) # <class 'int'>\n",
    "print(c)"
   ]
  },
  {
   "cell_type": "code",
   "execution_count": 34,
   "id": "57a1f019",
   "metadata": {},
   "outputs": [
    {
     "name": "stdout",
     "output_type": "stream",
     "text": [
      "<class 'int'>\n",
      "5\n"
     ]
    }
   ],
   "source": [
    "a, b = map(int, input().split())\n",
    "print(type(a)) # <class 'int'>\n",
    "print(a+b)"
   ]
  },
  {
   "cell_type": "code",
   "execution_count": 36,
   "id": "85a69465",
   "metadata": {},
   "outputs": [
    {
     "name": "stdout",
     "output_type": "stream",
     "text": [
      "<class 'float'>\n",
      "9.3\n"
     ]
    }
   ],
   "source": [
    "a=4.3\n",
    "b=5\n",
    "c=a+b\n",
    "\n",
    "print(type(c)) # <class 'float'>\n",
    "print(c) # 다른 타입간 연산시 더 큰 범위로 변경됨"
   ]
  },
  {
   "cell_type": "markdown",
   "id": "bd39e23f",
   "metadata": {},
   "source": [
    "## 3. 조건문 (if 분기문, 다중 if문)"
   ]
  },
  {
   "cell_type": "code",
   "execution_count": null,
   "id": "0c76f8c8",
   "metadata": {},
   "outputs": [
    {
     "name": "stdout",
     "output_type": "stream",
     "text": [
      "Lucky\n"
     ]
    }
   ],
   "source": [
    "x = 7\n",
    "\n",
    "if x == 7: # true일때 내부 문장 실행\n",
    "    print(\"Lucky\")"
   ]
  },
  {
   "cell_type": "code",
   "execution_count": null,
   "id": "44c6d9a6",
   "metadata": {},
   "outputs": [
    {
     "name": "stdout",
     "output_type": "stream",
     "text": [
      "10 이상의 홀수\n",
      "10보다 작은 자연수\n",
      "10보다 작은 자연수\n"
     ]
    }
   ],
   "source": [
    "x = 15\n",
    "if x >= 10:\n",
    "    if x % 2 == 1:\n",
    "        print(\"10 이상의 홀수\")\n",
    "\n",
    "y = 9\n",
    "if y > 0 and y < 10:\n",
    "    print(\"10보다 작은 자연수\")\n",
    "    \n",
    "if 0 < y < 10:\n",
    "    print(\"10보다 작은 자연수\")"
   ]
  },
  {
   "cell_type": "code",
   "execution_count": 42,
   "id": "86e4124f",
   "metadata": {},
   "outputs": [
    {
     "name": "stdout",
     "output_type": "stream",
     "text": [
      "positive\n"
     ]
    }
   ],
   "source": [
    "a = 10\n",
    "if x > 0:\n",
    "    print(\"positive\")\n",
    "else:\n",
    "    print(\"negative\")"
   ]
  },
  {
   "cell_type": "code",
   "execution_count": 47,
   "id": "998d8b2c",
   "metadata": {},
   "outputs": [
    {
     "name": "stdout",
     "output_type": "stream",
     "text": [
      "F\n"
     ]
    }
   ],
   "source": [
    "score =69\n",
    "\n",
    "if score >= 90:\n",
    "    print('A')\n",
    "elif score >= 80:\n",
    "    print('B')\n",
    "elif score >= 70:\n",
    "    print('C')\n",
    "else:\n",
    "    print('F')"
   ]
  }
 ],
 "metadata": {
  "kernelspec": {
   "display_name": ".venv (3.11.6)",
   "language": "python",
   "name": "python3"
  },
  "language_info": {
   "codemirror_mode": {
    "name": "ipython",
    "version": 3
   },
   "file_extension": ".py",
   "mimetype": "text/x-python",
   "name": "python",
   "nbconvert_exporter": "python",
   "pygments_lexer": "ipython3",
   "version": "3.11.6"
  }
 },
 "nbformat": 4,
 "nbformat_minor": 5
}
