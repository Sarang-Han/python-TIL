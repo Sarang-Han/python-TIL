{
 "cells": [
  {
   "cell_type": "markdown",
   "id": "299bccac",
   "metadata": {},
   "source": [
    "## 1. 변수와 출력 함수"
   ]
  },
  {
   "cell_type": "markdown",
   "id": "b7ad4df2",
   "metadata": {},
   "source": [
    "### 변수명 정하기\n",
    "\n",
    "1) 영문과 숫자, _ 로 이루어진다\n",
    "2) 대소문자를 구분한다\n",
    "3) 숫자나 _ 로 시작한다\n",
    "4) 특수문자를 사용하면 안된다\n",
    "5) 키워드를 사용하면 안된다"
   ]
  },
  {
   "cell_type": "code",
   "execution_count": 3,
   "id": "3f7896ab",
   "metadata": {},
   "outputs": [
    {
     "name": "stdout",
     "output_type": "stream",
     "text": [
      "1 1 3\n"
     ]
    }
   ],
   "source": [
    "# 대소문자 구분\n",
    "a = 1\n",
    "A = 1\n",
    "_ = 3\n",
    "print(a, A, _)"
   ]
  },
  {
   "cell_type": "code",
   "execution_count": 7,
   "id": "073e7bf7",
   "metadata": {},
   "outputs": [
    {
     "name": "stdout",
     "output_type": "stream",
     "text": [
      "True\n",
      "1 2 3\n",
      "1 3 2\n"
     ]
    }
   ],
   "source": [
    "# 등호\n",
    "print(a == 1)\n",
    "\n",
    "# 대입\n",
    "a, b, c = 1, 2, 3\n",
    "print(a, b, c)\n",
    "\n",
    "# 값 교환\n",
    "b, c = c, b\n",
    "print(a, b, c)"
   ]
  },
  {
   "cell_type": "code",
   "execution_count": null,
   "id": "706d8c32",
   "metadata": {},
   "outputs": [
    {
     "name": "stdout",
     "output_type": "stream",
     "text": [
      "12.123451234512345\n",
      "<class 'float'>\n"
     ]
    }
   ],
   "source": [
    "# 변수 타입\n",
    "a = 12.1234512345123451234512345\n",
    "print(a) # 15자리까지 출력됨\n",
    "print(type(a)) # <class 'float'>"
   ]
  },
  {
   "cell_type": "code",
   "execution_count": null,
   "id": "22a529fe",
   "metadata": {},
   "outputs": [
    {
     "name": "stdout",
     "output_type": "stream",
     "text": [
      "123\n",
      "1, 2, 3\n",
      "1\n",
      "2\n",
      "3\n",
      "123"
     ]
    }
   ],
   "source": [
    "# 출력\n",
    "a, b, c = 1, 2, 3\n",
    "print(a, b, c, sep='')\n",
    "print(a, b, c, sep=', ')\n",
    "\n",
    "print(a, b, c, sep='\\n')\n",
    "\n",
    "print(a, end='') # 줄바꿈 제거\n",
    "print(b, end='')\n",
    "print(c, end='')"
   ]
  }
 ],
 "metadata": {
  "kernelspec": {
   "display_name": ".venv (3.11.6)",
   "language": "python",
   "name": "python3"
  },
  "language_info": {
   "codemirror_mode": {
    "name": "ipython",
    "version": 3
   },
   "file_extension": ".py",
   "mimetype": "text/x-python",
   "name": "python",
   "nbconvert_exporter": "python",
   "pygments_lexer": "ipython3",
   "version": "3.11.6"
  }
 },
 "nbformat": 4,
 "nbformat_minor": 5
}
