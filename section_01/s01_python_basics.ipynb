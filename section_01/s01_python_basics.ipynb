{
 "cells": [
  {
   "cell_type": "markdown",
   "id": "d8f8b691",
   "metadata": {},
   "source": [
    "# Coding test TIL\n",
    "\n",
    "- **Course**: 파이썬 알고리즘 문제풀이 입문\n",
    "- **Section**: 1. 파이썬 기초 문법\n",
    "- **Date**: 2025.08.03 ~\n",
    "\n",
    "---"
   ]
  },
  {
   "cell_type": "markdown",
   "id": "299bccac",
   "metadata": {},
   "source": [
    "## 1. 변수와 출력 함수"
   ]
  },
  {
   "cell_type": "markdown",
   "id": "b7ad4df2",
   "metadata": {},
   "source": [
    "### 변수명 정하기\n",
    "\n",
    "1) 영문과 숫자, _ 로 이루어진다\n",
    "2) 대소문자를 구분한다\n",
    "3) 숫자나 _ 로 시작한다\n",
    "4) 특수문자를 사용하면 안된다\n",
    "5) 키워드를 사용하면 안된다"
   ]
  },
  {
   "cell_type": "code",
   "execution_count": 3,
   "id": "3f7896ab",
   "metadata": {},
   "outputs": [
    {
     "name": "stdout",
     "output_type": "stream",
     "text": [
      "1 1 3\n"
     ]
    }
   ],
   "source": [
    "# 대소문자 구분\n",
    "a = 1\n",
    "A = 1\n",
    "_ = 3\n",
    "print(a, A, _)"
   ]
  },
  {
   "cell_type": "code",
   "execution_count": 7,
   "id": "073e7bf7",
   "metadata": {},
   "outputs": [
    {
     "name": "stdout",
     "output_type": "stream",
     "text": [
      "True\n",
      "1 2 3\n",
      "1 3 2\n"
     ]
    }
   ],
   "source": [
    "# 등호\n",
    "print(a == 1)\n",
    "\n",
    "# 대입\n",
    "a, b, c = 1, 2, 3\n",
    "print(a, b, c)\n",
    "\n",
    "# 값 교환\n",
    "b, c = c, b\n",
    "print(a, b, c)"
   ]
  },
  {
   "cell_type": "code",
   "execution_count": 12,
   "id": "706d8c32",
   "metadata": {},
   "outputs": [
    {
     "name": "stdout",
     "output_type": "stream",
     "text": [
      "12.123451234512345\n",
      "<class 'float'>\n"
     ]
    }
   ],
   "source": [
    "# 변수 타입 (실수형)\n",
    "a = 12.1234512345123451234512345\n",
    "print(a)\n",
    "print(type(a)) # <class 'float'>"
   ]
  },
  {
   "cell_type": "code",
   "execution_count": 18,
   "id": "22a529fe",
   "metadata": {},
   "outputs": [
    {
     "name": "stdout",
     "output_type": "stream",
     "text": [
      "123\n",
      "1, 2, 3\n",
      "1\n",
      "2\n",
      "3\n",
      "123"
     ]
    }
   ],
   "source": [
    "# 출력\n",
    "a, b, c = 1, 2, 3\n",
    "print(a, b, c, sep='')\n",
    "print(a, b, c, sep=', ')\n",
    "\n",
    "print(a, b, c, sep='\\n')\n",
    "\n",
    "print(a, end='') # 줄바꿈 제거\n",
    "print(b, end='')\n",
    "print(c, end='')"
   ]
  },
  {
   "cell_type": "markdown",
   "id": "3eabef06",
   "metadata": {},
   "source": [
    "---\n",
    "\n",
    "#### sep (separator) - 구분자\n",
    "- 역할: 여러 값들 사이에 들어가는 구분자\n",
    "- 기본값: 공백 (' ')\n",
    "\n",
    "#### end - 끝문자\n",
    "- 역할: 출력 맨 끝에 붙는 문자\n",
    "- 기본값: 줄바꿈 ('\\n')"
   ]
  },
  {
   "cell_type": "code",
   "execution_count": null,
   "id": "3bf9a86e",
   "metadata": {},
   "outputs": [],
   "source": [
    "# sep와 end 동시 사용\n",
    "print(1, 2, 3, sep='-', end=' | ')   # 1-2-3 | \n",
    "print(4, 5, 6, sep='-', end=' | ')   # 1-2-3 | 4-5-6 | \n",
    "print(\"끝\")                           # 1-2-3 | 4-5-6 | 끝"
   ]
  },
  {
   "cell_type": "markdown",
   "id": "266d5263",
   "metadata": {},
   "source": [
    "## 2. 변수 입력과 연산자"
   ]
  },
  {
   "cell_type": "code",
   "execution_count": 23,
   "id": "35e55235",
   "metadata": {},
   "outputs": [
    {
     "name": "stdout",
     "output_type": "stream",
     "text": [
      "123\n"
     ]
    }
   ],
   "source": [
    "# 기본 입력\n",
    "a=input(\"숫자를 입력하세요: \")\n",
    "print(a)"
   ]
  },
  {
   "cell_type": "code",
   "execution_count": 31,
   "id": "17eacbf8",
   "metadata": {},
   "outputs": [
    {
     "name": "stdout",
     "output_type": "stream",
     "text": [
      "<class 'str'>\n",
      "23\n",
      "2\n",
      "<class 'int'>\n",
      "2\n"
     ]
    }
   ],
   "source": [
    "c, d= input().split()\n",
    "print(type(c)) # <class 'str'>\n",
    "print(c+d)\n",
    "\n",
    "c = int(c)\n",
    "print(type(c)) # <class 'int'>\n",
    "print(c)"
   ]
  },
  {
   "cell_type": "code",
   "execution_count": 34,
   "id": "57a1f019",
   "metadata": {},
   "outputs": [
    {
     "name": "stdout",
     "output_type": "stream",
     "text": [
      "<class 'int'>\n",
      "5\n"
     ]
    }
   ],
   "source": [
    "a, b = map(int, input().split())\n",
    "print(type(a)) # <class 'int'>\n",
    "print(a+b)"
   ]
  },
  {
   "cell_type": "code",
   "execution_count": 36,
   "id": "85a69465",
   "metadata": {},
   "outputs": [
    {
     "name": "stdout",
     "output_type": "stream",
     "text": [
      "<class 'float'>\n",
      "9.3\n"
     ]
    }
   ],
   "source": [
    "a=4.3\n",
    "b=5\n",
    "c=a+b\n",
    "\n",
    "print(type(c)) # <class 'float'>\n",
    "print(c) # 다른 타입간 연산시 더 큰 범위로 변경됨"
   ]
  },
  {
   "cell_type": "markdown",
   "id": "bd39e23f",
   "metadata": {},
   "source": [
    "## 3. 조건문 (if 분기문, 다중 if문)"
   ]
  },
  {
   "cell_type": "code",
   "execution_count": null,
   "id": "0c76f8c8",
   "metadata": {},
   "outputs": [
    {
     "name": "stdout",
     "output_type": "stream",
     "text": [
      "Lucky\n"
     ]
    }
   ],
   "source": [
    "x = 7\n",
    "\n",
    "if x == 7: # true일때 내부 문장 실행\n",
    "    print(\"Lucky\")"
   ]
  },
  {
   "cell_type": "code",
   "execution_count": null,
   "id": "44c6d9a6",
   "metadata": {},
   "outputs": [
    {
     "name": "stdout",
     "output_type": "stream",
     "text": [
      "10 이상의 홀수\n",
      "10보다 작은 자연수\n",
      "10보다 작은 자연수\n"
     ]
    }
   ],
   "source": [
    "x = 15\n",
    "if x >= 10:\n",
    "    if x % 2 == 1:\n",
    "        print(\"10 이상의 홀수\")\n",
    "\n",
    "y = 9\n",
    "if y > 0 and y < 10:\n",
    "    print(\"10보다 작은 자연수\")\n",
    "    \n",
    "if 0 < y < 10:\n",
    "    print(\"10보다 작은 자연수\")"
   ]
  },
  {
   "cell_type": "code",
   "execution_count": 42,
   "id": "86e4124f",
   "metadata": {},
   "outputs": [
    {
     "name": "stdout",
     "output_type": "stream",
     "text": [
      "positive\n"
     ]
    }
   ],
   "source": [
    "a = 10\n",
    "if x > 0:\n",
    "    print(\"positive\")\n",
    "else:\n",
    "    print(\"negative\")"
   ]
  },
  {
   "cell_type": "code",
   "execution_count": 47,
   "id": "998d8b2c",
   "metadata": {},
   "outputs": [
    {
     "name": "stdout",
     "output_type": "stream",
     "text": [
      "F\n"
     ]
    }
   ],
   "source": [
    "score =69\n",
    "\n",
    "if score >= 90:\n",
    "    print('A')\n",
    "elif score >= 80:\n",
    "    print('B')\n",
    "elif score >= 70:\n",
    "    print('C')\n",
    "else:\n",
    "    print('F')"
   ]
  },
  {
   "cell_type": "markdown",
   "id": "69ce4a66",
   "metadata": {},
   "source": [
    "## 4. 반복문 (for, while, break, continue)"
   ]
  },
  {
   "cell_type": "code",
   "execution_count": 66,
   "id": "f7d04669",
   "metadata": {},
   "outputs": [
    {
     "name": "stdout",
     "output_type": "stream",
     "text": [
      "<class 'range'>\n",
      "[1, 2, 3, 4, 5, 6, 7, 8, 9, 10]\n"
     ]
    }
   ],
   "source": [
    "a = range(1, 11)\n",
    "print(type(a)) # <class 'range'>\n",
    "print(list(a))"
   ]
  },
  {
   "cell_type": "markdown",
   "id": "358f6498",
   "metadata": {},
   "source": [
    "---\n",
    "\n",
    "`a = range(10)`이 가능한 이유\n",
    "\n",
    "- 이때 변수 a에 저장되는 것은 함수가 아닌 range 객체이다.\n",
    "- 데이터들이 그대로 저장되는 것이 아니라 필요할때 호출되어 메모리 효율적이다.\n",
    "- 이런 객체들을 'Lazy 객체'라고 한다."
   ]
  },
  {
   "cell_type": "markdown",
   "id": "719d13c8",
   "metadata": {},
   "source": [
    "- 객체(Object): 프로그래밍에서 속성(Property)와 기능(Method)를 하나로 묶은 것\n",
    "- 파이썬의 모든 값은 일급 객체 (완전한 권한을 가진 객체) 이다! => 순수 객체지향 언어\n",
    "- 모든 값이 객체인 것은 파이썬만의 독특한 특징임"
   ]
  },
  {
   "cell_type": "code",
   "execution_count": null,
   "id": "26a585ab",
   "metadata": {},
   "outputs": [],
   "source": [
    "# 숫자도 객체\n",
    "number = 42\n",
    "print(type(number))  # <class 'int'>\n",
    "\n",
    "# 문자열도 객체\n",
    "text = \"hello\"\n",
    "print(text.upper())  # \"HELLO\" - 메서드 사용\n",
    "print(len(text))     # 5 - 속성 접근\n",
    "\n",
    "# 리스트도 객체\n",
    "my_list = [1, 2, 3]\n",
    "my_list.append(4)    # 메서드 사용\n",
    "print(my_list)       # [1, 2, 3, 4]\n",
    "\n",
    "# range도 객체\n",
    "my_range = range(10)\n",
    "print(type(my_range))  # <class 'range'>\n",
    "\n",
    "# 정말 모든 것이 객체\n",
    "print(type(5))          # <class 'int'>\n",
    "print(type(\"hello\"))    # <class 'str'>\n",
    "print(type([1,2,3]))    # <class 'list'>\n",
    "print(type(print))      # <class 'builtin_function_or_method'>\n",
    "print(type(type))       # <class 'type'>\n",
    "\n",
    "# 심지어 모듈도 객체\n",
    "import math\n",
    "print(type(math))       # <class 'module'>\n",
    "math.custom = \"wow\"     # 모듈에도 속성 추가 가능!"
   ]
  },
  {
   "cell_type": "code",
   "execution_count": 61,
   "id": "934a8947",
   "metadata": {},
   "outputs": [
    {
     "name": "stdout",
     "output_type": "stream",
     "text": [
      "hello hello hello hello hello \n",
      "hello hello hello hello hello \n",
      "5 4 3 2 1 "
     ]
    }
   ],
   "source": [
    "for i in range(5):\n",
    "    print(\"hello \", end='')\n",
    "    \n",
    "print()\n",
    "\n",
    "for i in range(1, 6): # 5개 출력\n",
    "    print(\"hello \", end='')\n",
    "\n",
    "print()\n",
    "\n",
    "for i in range(5, 0, -1): # 5 ~ 0 출력\n",
    "    print(i, end=' ')"
   ]
  },
  {
   "cell_type": "code",
   "execution_count": null,
   "id": "07ab951a",
   "metadata": {},
   "outputs": [
    {
     "name": "stdout",
     "output_type": "stream",
     "text": [
      "1 2 3 4 5 6 7 8 9 10 "
     ]
    }
   ],
   "source": [
    "i = 1\n",
    "while i <= 10:\n",
    "    print(i, end = ' ')\n",
    "    i += 1"
   ]
  },
  {
   "cell_type": "code",
   "execution_count": 70,
   "id": "af70c7e8",
   "metadata": {},
   "outputs": [
    {
     "name": "stdout",
     "output_type": "stream",
     "text": [
      "0\n",
      "1\n",
      "2\n",
      "3\n",
      "4\n",
      "5\n",
      "6\n",
      "7\n",
      "8\n",
      "9\n"
     ]
    }
   ],
   "source": [
    "i = 0\n",
    "while True:\n",
    "    print(i)\n",
    "    i += 1\n",
    "    if i == 10:\n",
    "        break"
   ]
  },
  {
   "cell_type": "code",
   "execution_count": null,
   "id": "080391d8",
   "metadata": {},
   "outputs": [
    {
     "name": "stdout",
     "output_type": "stream",
     "text": [
      "2\n",
      "4\n",
      "6\n",
      "8\n",
      "10\n"
     ]
    }
   ],
   "source": [
    "for i in range(1, 11):\n",
    "    if i % 2 == 1: # 홀수인 경우 skip\n",
    "        continue\n",
    "    print(i)\n",
    "    i += 1"
   ]
  },
  {
   "cell_type": "code",
   "execution_count": null,
   "id": "b5fe08bc",
   "metadata": {},
   "outputs": [
    {
     "name": "stdout",
     "output_type": "stream",
     "text": [
      "1 2 3 4 5 \n",
      "1 2 3 4 5 6 7 8 9 10 정상 종료\n"
     ]
    }
   ],
   "source": [
    "for i in range(1, 11):\n",
    "    print(i, end = ' ')\n",
    "    if i == 5:\n",
    "        break\n",
    "else:\n",
    "    print(10) # 비정상 종료시 실행 x\n",
    "\n",
    "print()\n",
    "\n",
    "for i in range(1, 11):\n",
    "    print(i, end = ' ')\n",
    "    if i > 15:\n",
    "        break\n",
    "else:\n",
    "    print(\"정상 종료\")   \n"
   ]
  },
  {
   "cell_type": "markdown",
   "id": "293401ff",
   "metadata": {},
   "source": [
    "## 5. 반복문을 이용한 문제 풀이"
   ]
  },
  {
   "cell_type": "markdown",
   "id": "92d52a2c",
   "metadata": {},
   "source": [
    "### 1부터 N까지 홀수만 출력하기\n",
    "\n",
    "pseudo\n",
    "```\n",
    "1. n 입력받기\n",
    "2. range(1, n+1, 2) 돌리기\n",
    "```\n",
    "\n",
    "input: 10\n",
    "\n",
    "output: 1 3 5 7 9"
   ]
  },
  {
   "cell_type": "code",
   "execution_count": null,
   "id": "af347ed7",
   "metadata": {},
   "outputs": [
    {
     "name": "stdout",
     "output_type": "stream",
     "text": [
      "1\n",
      "3\n",
      "5\n",
      "7\n",
      "9\n"
     ]
    }
   ],
   "source": [
    "# O(n/2) - 더 효율적\n",
    "n = int(input())\n",
    "for i in range(1, n+1, 2):\n",
    "    print(i)\n",
    "    \n",
    "# 다른 방법\n",
    "# O(n) - 모든 수를 체크\n",
    "for i in range(1, n+1):\n",
    "    if i % 2 == 1: # 홀수인 경우\n",
    "        print(i)"
   ]
  },
  {
   "cell_type": "markdown",
   "id": "b24d0a0e",
   "metadata": {},
   "source": [
    "### 1부터 N까지 합 출력하기\n",
    "\n",
    "pseudo\n",
    "```\n",
    "1. n 입력받기\n",
    "2. n*(1+n)//2 출력\n",
    "```\n",
    "\n",
    "input: 10\n",
    "\n",
    "output: 55"
   ]
  },
  {
   "cell_type": "code",
   "execution_count": null,
   "id": "4152ae38",
   "metadata": {},
   "outputs": [
    {
     "name": "stdout",
     "output_type": "stream",
     "text": [
      "55\n",
      "55\n"
     ]
    }
   ],
   "source": [
    "# O(1) - 수학 공식\n",
    "n = int(input())\n",
    "print(n*(1+n)//2)\n",
    "\n",
    "# 다른 방법\n",
    "# O(n) - 반복문 사용\n",
    "sum = 0\n",
    "for i in range(1, n+1):\n",
    "    sum += i\n",
    "print(sum)"
   ]
  },
  {
   "cell_type": "markdown",
   "id": "45a6a1c6",
   "metadata": {},
   "source": [
    "### n의 약수 출력하기\n",
    "\n",
    "pseudo\n",
    "```\n",
    "1. n 입력받기\n",
    "2. 1부터 n+1까지 n 나눠보고 -> 나머지가 0이면 출력\n",
    "```\n",
    "input: 16\n",
    "\n",
    "output: 1 2 4 8 16"
   ]
  },
  {
   "cell_type": "code",
   "execution_count": null,
   "id": "f8508f9f",
   "metadata": {},
   "outputs": [
    {
     "name": "stdout",
     "output_type": "stream",
     "text": [
      "1 2 4 8 16 "
     ]
    }
   ],
   "source": [
    "# O(n) - n+1까지 확인\n",
    "n = int(input())\n",
    "for i in range(1, n+1):\n",
    "    if n % i == 0:\n",
    "        print(i, end = ' ')\n",
    "        \n",
    "# O(√n) - 최적화\n",
    "import math\n",
    "n = int(input())\n",
    "for i in range(1, int(math.sqrt(n)) + 1):  # √n번만 반복\n",
    "    if n % i == 0:\n",
    "        print(i, end=' ')\n",
    "        if i != n // i:  # 중복 제거\n",
    "            print(n // i, end=' ')\n",
    "            \n",
    "# 원래 하려던거 but 위의 방식이 더 낫다\n",
    "n = 16\n",
    "for i in range(1, int(n**0.5) + 1):  # int로 변환\n",
    "    if n % i == 0:\n",
    "        print(i, end=' ')\n",
    "        if i != n // i:\n",
    "            print(n // i, end=' ')\n"
   ]
  },
  {
   "cell_type": "markdown",
   "id": "0c5065a6",
   "metadata": {},
   "source": [
    "## 6. 중첩 반복문 (2중 for문)"
   ]
  },
  {
   "cell_type": "code",
   "execution_count": null,
   "id": "9a1817ad",
   "metadata": {},
   "outputs": [
    {
     "name": "stdout",
     "output_type": "stream",
     "text": [
      "1번째:  1 2 3 4 5 \n",
      "2번째:  1 2 3 4 5 \n",
      "3번째:  1 2 3 4 5 \n",
      "4번째:  1 2 3 4 5 \n",
      "5번째:  1 2 3 4 5 \n"
     ]
    }
   ],
   "source": [
    "for i in range(1, 6): \n",
    "    print(i,'번째: ', sep='', end=' ') # 인덱스\n",
    "    for j in range(1, 6): # 내부\n",
    "        print(j, end=' ')\n",
    "    print()"
   ]
  },
  {
   "cell_type": "code",
   "execution_count": 20,
   "id": "1984d307",
   "metadata": {},
   "outputs": [
    {
     "name": "stdout",
     "output_type": "stream",
     "text": [
      "* * * * * \n",
      "* * * * * \n",
      "* * * * * \n",
      "* * * * * \n",
      "* * * * * \n",
      "* \n",
      "* * \n",
      "* * * \n",
      "* * * * \n",
      "* * * * * \n",
      "* * * * * \n",
      "* * * * \n",
      "* * * \n",
      "* * \n",
      "* \n"
     ]
    }
   ],
   "source": [
    "# 별찍기\n",
    "for i in range(5):\n",
    "    for j in range(5):\n",
    "        print(\"*\", end=' ')\n",
    "    print()\n",
    "\n",
    "for i in range(1, 6):\n",
    "    for j in range(i):\n",
    "        print(\"*\", end=' ')\n",
    "    print()\n",
    "\n",
    "for i in range(5):\n",
    "    for j in range(5-i):\n",
    "        print(\"*\", end=' ')\n",
    "    print()"
   ]
  }
 ],
 "metadata": {
  "kernelspec": {
   "display_name": ".venv (3.11.6)",
   "language": "python",
   "name": "python3"
  },
  "language_info": {
   "codemirror_mode": {
    "name": "ipython",
    "version": 3
   },
   "file_extension": ".py",
   "mimetype": "text/x-python",
   "name": "python",
   "nbconvert_exporter": "python",
   "pygments_lexer": "ipython3",
   "version": "3.11.6"
  }
 },
 "nbformat": 4,
 "nbformat_minor": 5
}
