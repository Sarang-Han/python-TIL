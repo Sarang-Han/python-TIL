{
 "cells": [
  {
   "cell_type": "markdown",
   "id": "d8f8b691",
   "metadata": {},
   "source": [
    "# Coding test TIL\n",
    "\n",
    "- **Course**: 파이썬 알고리즘 문제풀이 입문\n",
    "- **Section**: 1. 파이썬 기초 문법\n",
    "- **Date**: 2025.08.03 ~\n",
    "\n",
    "---"
   ]
  },
  {
   "cell_type": "markdown",
   "id": "299bccac",
   "metadata": {},
   "source": [
    "## 1. 변수와 출력 함수"
   ]
  },
  {
   "cell_type": "markdown",
   "id": "b7ad4df2",
   "metadata": {},
   "source": [
    "### 변수명 정하기\n",
    "\n",
    "1) 영문과 숫자, _ 로 이루어진다\n",
    "2) 대소문자를 구분한다\n",
    "3) 숫자로 시작하면 안된다\n",
    "4) 특수문자를 사용하면 안된다\n",
    "5) 키워드를 사용하면 안된다"
   ]
  },
  {
   "cell_type": "code",
   "execution_count": 3,
   "id": "3f7896ab",
   "metadata": {},
   "outputs": [
    {
     "name": "stdout",
     "output_type": "stream",
     "text": [
      "1 1 3\n"
     ]
    }
   ],
   "source": [
    "# 대소문자 구분\n",
    "a = 1\n",
    "A = 1\n",
    "_ = 3\n",
    "print(a, A, _)"
   ]
  },
  {
   "cell_type": "code",
   "execution_count": 7,
   "id": "073e7bf7",
   "metadata": {},
   "outputs": [
    {
     "name": "stdout",
     "output_type": "stream",
     "text": [
      "True\n",
      "1 2 3\n",
      "1 3 2\n"
     ]
    }
   ],
   "source": [
    "# 등호\n",
    "print(a == 1)\n",
    "\n",
    "# 대입\n",
    "a, b, c = 1, 2, 3\n",
    "print(a, b, c)\n",
    "\n",
    "# 값 교환\n",
    "b, c = c, b\n",
    "print(a, b, c)"
   ]
  },
  {
   "cell_type": "code",
   "execution_count": 12,
   "id": "706d8c32",
   "metadata": {},
   "outputs": [
    {
     "name": "stdout",
     "output_type": "stream",
     "text": [
      "12.123451234512345\n",
      "<class 'float'>\n"
     ]
    }
   ],
   "source": [
    "# 변수 타입 (실수형)\n",
    "a = 12.1234512345123451234512345\n",
    "print(a)\n",
    "print(type(a)) # <class 'float'>"
   ]
  },
  {
   "cell_type": "code",
   "execution_count": 18,
   "id": "22a529fe",
   "metadata": {},
   "outputs": [
    {
     "name": "stdout",
     "output_type": "stream",
     "text": [
      "123\n",
      "1, 2, 3\n",
      "1\n",
      "2\n",
      "3\n",
      "123"
     ]
    }
   ],
   "source": [
    "# 출력\n",
    "a, b, c = 1, 2, 3\n",
    "print(a, b, c, sep='')\n",
    "print(a, b, c, sep=', ')\n",
    "\n",
    "print(a, b, c, sep='\\n')\n",
    "\n",
    "print(a, end='') # 줄바꿈 제거\n",
    "print(b, end='')\n",
    "print(c, end='')"
   ]
  },
  {
   "cell_type": "markdown",
   "id": "3eabef06",
   "metadata": {},
   "source": [
    "---\n",
    "\n",
    "#### sep (separator) - 구분자\n",
    "- 역할: 여러 값들 사이에 들어가는 구분자\n",
    "- 기본값: 공백 (' ')\n",
    "\n",
    "#### end - 끝문자\n",
    "- 역할: 출력 맨 끝에 붙는 문자\n",
    "- 기본값: 줄바꿈 ('\\n')"
   ]
  },
  {
   "cell_type": "code",
   "execution_count": null,
   "id": "3bf9a86e",
   "metadata": {},
   "outputs": [],
   "source": [
    "# sep와 end 동시 사용\n",
    "print(1, 2, 3, sep='-', end=' | ')   # 1-2-3 | \n",
    "print(4, 5, 6, sep='-', end=' | ')   # 1-2-3 | 4-5-6 | \n",
    "print(\"끝\")                           # 1-2-3 | 4-5-6 | 끝"
   ]
  },
  {
   "cell_type": "markdown",
   "id": "266d5263",
   "metadata": {},
   "source": [
    "## 2. 변수 입력과 연산자"
   ]
  },
  {
   "cell_type": "code",
   "execution_count": 23,
   "id": "35e55235",
   "metadata": {},
   "outputs": [
    {
     "name": "stdout",
     "output_type": "stream",
     "text": [
      "123\n"
     ]
    }
   ],
   "source": [
    "# 기본 입력\n",
    "a=input(\"숫자를 입력하세요: \")\n",
    "print(a)"
   ]
  },
  {
   "cell_type": "code",
   "execution_count": 31,
   "id": "17eacbf8",
   "metadata": {},
   "outputs": [
    {
     "name": "stdout",
     "output_type": "stream",
     "text": [
      "<class 'str'>\n",
      "23\n",
      "2\n",
      "<class 'int'>\n",
      "2\n"
     ]
    }
   ],
   "source": [
    "c, d= input().split()\n",
    "print(type(c)) # <class 'str'>\n",
    "print(c+d)\n",
    "\n",
    "c = int(c)\n",
    "print(type(c)) # <class 'int'>\n",
    "print(c)"
   ]
  },
  {
   "cell_type": "code",
   "execution_count": 34,
   "id": "57a1f019",
   "metadata": {},
   "outputs": [
    {
     "name": "stdout",
     "output_type": "stream",
     "text": [
      "<class 'int'>\n",
      "5\n"
     ]
    }
   ],
   "source": [
    "a, b = map(int, input().split())\n",
    "print(type(a)) # <class 'int'>\n",
    "print(a+b)"
   ]
  },
  {
   "cell_type": "code",
   "execution_count": 36,
   "id": "85a69465",
   "metadata": {},
   "outputs": [
    {
     "name": "stdout",
     "output_type": "stream",
     "text": [
      "<class 'float'>\n",
      "9.3\n"
     ]
    }
   ],
   "source": [
    "a=4.3\n",
    "b=5\n",
    "c=a+b\n",
    "\n",
    "print(type(c)) # <class 'float'>\n",
    "print(c) # 다른 타입간 연산시 더 큰 범위로 변경됨"
   ]
  },
  {
   "cell_type": "markdown",
   "id": "bd39e23f",
   "metadata": {},
   "source": [
    "## 3. 조건문 (if 분기문, 다중 if문)"
   ]
  },
  {
   "cell_type": "code",
   "execution_count": null,
   "id": "0c76f8c8",
   "metadata": {},
   "outputs": [
    {
     "name": "stdout",
     "output_type": "stream",
     "text": [
      "Lucky\n"
     ]
    }
   ],
   "source": [
    "x = 7\n",
    "\n",
    "if x == 7: # true일때 내부 문장 실행\n",
    "    print(\"Lucky\")"
   ]
  },
  {
   "cell_type": "code",
   "execution_count": null,
   "id": "44c6d9a6",
   "metadata": {},
   "outputs": [
    {
     "name": "stdout",
     "output_type": "stream",
     "text": [
      "10 이상의 홀수\n",
      "10보다 작은 자연수\n",
      "10보다 작은 자연수\n"
     ]
    }
   ],
   "source": [
    "x = 15\n",
    "if x >= 10:\n",
    "    if x % 2 == 1:\n",
    "        print(\"10 이상의 홀수\")\n",
    "\n",
    "y = 9\n",
    "if y > 0 and y < 10:\n",
    "    print(\"10보다 작은 자연수\")\n",
    "    \n",
    "if 0 < y < 10:\n",
    "    print(\"10보다 작은 자연수\")"
   ]
  },
  {
   "cell_type": "code",
   "execution_count": 42,
   "id": "86e4124f",
   "metadata": {},
   "outputs": [
    {
     "name": "stdout",
     "output_type": "stream",
     "text": [
      "positive\n"
     ]
    }
   ],
   "source": [
    "a = 10\n",
    "if x > 0:\n",
    "    print(\"positive\")\n",
    "else:\n",
    "    print(\"negative\")"
   ]
  },
  {
   "cell_type": "code",
   "execution_count": 47,
   "id": "998d8b2c",
   "metadata": {},
   "outputs": [
    {
     "name": "stdout",
     "output_type": "stream",
     "text": [
      "F\n"
     ]
    }
   ],
   "source": [
    "score =69\n",
    "\n",
    "if score >= 90:\n",
    "    print('A')\n",
    "elif score >= 80:\n",
    "    print('B')\n",
    "elif score >= 70:\n",
    "    print('C')\n",
    "else:\n",
    "    print('F')"
   ]
  },
  {
   "cell_type": "markdown",
   "id": "69ce4a66",
   "metadata": {},
   "source": [
    "## 4. 반복문 (for, while, break, continue)"
   ]
  },
  {
   "cell_type": "code",
   "execution_count": 66,
   "id": "f7d04669",
   "metadata": {},
   "outputs": [
    {
     "name": "stdout",
     "output_type": "stream",
     "text": [
      "<class 'range'>\n",
      "[1, 2, 3, 4, 5, 6, 7, 8, 9, 10]\n"
     ]
    }
   ],
   "source": [
    "a = range(1, 11)\n",
    "print(type(a)) # <class 'range'>\n",
    "print(list(a))"
   ]
  },
  {
   "cell_type": "markdown",
   "id": "358f6498",
   "metadata": {},
   "source": [
    "---\n",
    "\n",
    "`a = range(10)`이 가능한 이유\n",
    "\n",
    "- 이때 변수 a에 저장되는 것은 함수가 아닌 range 객체이다.\n",
    "- 데이터들이 그대로 저장되는 것이 아니라 필요할때 호출되어 메모리 효율적이다.\n",
    "- 이런 객체들을 'Lazy 객체'라고 한다."
   ]
  },
  {
   "cell_type": "markdown",
   "id": "719d13c8",
   "metadata": {},
   "source": [
    "- 객체(Object): 프로그래밍에서 속성(Property)와 기능(Method)를 하나로 묶은 것\n",
    "- 파이썬의 모든 값은 일급 객체 (완전한 권한을 가진 객체) 이다! => 순수 객체지향 언어\n",
    "- 모든 값이 객체인 것은 파이썬만의 독특한 특징임"
   ]
  },
  {
   "cell_type": "code",
   "execution_count": null,
   "id": "26a585ab",
   "metadata": {},
   "outputs": [],
   "source": [
    "# 숫자도 객체\n",
    "number = 42\n",
    "print(type(number))  # <class 'int'>\n",
    "\n",
    "# 문자열도 객체\n",
    "text = \"hello\"\n",
    "print(text.upper())  # \"HELLO\" - 메서드 사용\n",
    "print(len(text))     # 5 - 속성 접근\n",
    "\n",
    "# 리스트도 객체\n",
    "my_list = [1, 2, 3]\n",
    "my_list.append(4)    # 메서드 사용\n",
    "print(my_list)       # [1, 2, 3, 4]\n",
    "\n",
    "# range도 객체\n",
    "my_range = range(10)\n",
    "print(type(my_range))  # <class 'range'>\n",
    "\n",
    "# 정말 모든 것이 객체\n",
    "print(type(5))          # <class 'int'>\n",
    "print(type(\"hello\"))    # <class 'str'>\n",
    "print(type([1,2,3]))    # <class 'list'>\n",
    "print(type(print))      # <class 'builtin_function_or_method'>\n",
    "print(type(type))       # <class 'type'>\n",
    "\n",
    "# 심지어 모듈도 객체\n",
    "import math\n",
    "print(type(math))       # <class 'module'>\n",
    "math.custom = \"wow\"     # 모듈에도 속성 추가 가능!"
   ]
  },
  {
   "cell_type": "code",
   "execution_count": 61,
   "id": "934a8947",
   "metadata": {},
   "outputs": [
    {
     "name": "stdout",
     "output_type": "stream",
     "text": [
      "hello hello hello hello hello \n",
      "hello hello hello hello hello \n",
      "5 4 3 2 1 "
     ]
    }
   ],
   "source": [
    "for i in range(5):\n",
    "    print(\"hello \", end='')\n",
    "    \n",
    "print()\n",
    "\n",
    "for i in range(1, 6): # 5개 출력\n",
    "    print(\"hello \", end='')\n",
    "\n",
    "print()\n",
    "\n",
    "for i in range(5, 0, -1): # 5 ~ 0 출력\n",
    "    print(i, end=' ')"
   ]
  },
  {
   "cell_type": "code",
   "execution_count": null,
   "id": "07ab951a",
   "metadata": {},
   "outputs": [
    {
     "name": "stdout",
     "output_type": "stream",
     "text": [
      "1 2 3 4 5 6 7 8 9 10 "
     ]
    }
   ],
   "source": [
    "i = 1\n",
    "while i <= 10:\n",
    "    print(i, end = ' ')\n",
    "    i += 1"
   ]
  },
  {
   "cell_type": "code",
   "execution_count": 70,
   "id": "af70c7e8",
   "metadata": {},
   "outputs": [
    {
     "name": "stdout",
     "output_type": "stream",
     "text": [
      "0\n",
      "1\n",
      "2\n",
      "3\n",
      "4\n",
      "5\n",
      "6\n",
      "7\n",
      "8\n",
      "9\n"
     ]
    }
   ],
   "source": [
    "i = 0\n",
    "while True:\n",
    "    print(i)\n",
    "    i += 1\n",
    "    if i == 10:\n",
    "        break"
   ]
  },
  {
   "cell_type": "code",
   "execution_count": null,
   "id": "080391d8",
   "metadata": {},
   "outputs": [
    {
     "name": "stdout",
     "output_type": "stream",
     "text": [
      "2\n",
      "4\n",
      "6\n",
      "8\n",
      "10\n"
     ]
    }
   ],
   "source": [
    "for i in range(1, 11):\n",
    "    if i % 2 == 1: # 홀수인 경우 skip\n",
    "        continue\n",
    "    print(i)\n",
    "    i += 1"
   ]
  },
  {
   "cell_type": "code",
   "execution_count": null,
   "id": "b5fe08bc",
   "metadata": {},
   "outputs": [
    {
     "name": "stdout",
     "output_type": "stream",
     "text": [
      "1 2 3 4 5 \n",
      "1 2 3 4 5 6 7 8 9 10 정상 종료\n"
     ]
    }
   ],
   "source": [
    "for i in range(1, 11):\n",
    "    print(i, end = ' ')\n",
    "    if i == 5:\n",
    "        break\n",
    "else:\n",
    "    print(10) # 비정상 종료시 실행 x\n",
    "\n",
    "print()\n",
    "\n",
    "for i in range(1, 11):\n",
    "    print(i, end = ' ')\n",
    "    if i > 15:\n",
    "        break\n",
    "else:\n",
    "    print(\"정상 종료\")   \n"
   ]
  },
  {
   "cell_type": "markdown",
   "id": "293401ff",
   "metadata": {},
   "source": [
    "## 5. 반복문을 이용한 문제 풀이"
   ]
  },
  {
   "cell_type": "markdown",
   "id": "92d52a2c",
   "metadata": {},
   "source": [
    "### 1부터 N까지 홀수만 출력하기\n",
    "\n",
    "pseudo\n",
    "```\n",
    "1. n 입력받기\n",
    "2. range(1, n+1, 2) 돌리기\n",
    "```\n",
    "\n",
    "input: 10\n",
    "\n",
    "output: 1 3 5 7 9"
   ]
  },
  {
   "cell_type": "code",
   "execution_count": null,
   "id": "af347ed7",
   "metadata": {},
   "outputs": [
    {
     "name": "stdout",
     "output_type": "stream",
     "text": [
      "1\n",
      "3\n",
      "5\n",
      "7\n",
      "9\n"
     ]
    }
   ],
   "source": [
    "# O(n/2) - 더 효율적\n",
    "n = int(input())\n",
    "for i in range(1, n+1, 2):\n",
    "    print(i)\n",
    "    \n",
    "# 다른 방법\n",
    "# O(n) - 모든 수를 체크\n",
    "for i in range(1, n+1):\n",
    "    if i % 2 == 1: # 홀수인 경우\n",
    "        print(i)"
   ]
  },
  {
   "cell_type": "markdown",
   "id": "b24d0a0e",
   "metadata": {},
   "source": [
    "### 1부터 N까지 합 출력하기\n",
    "\n",
    "pseudo\n",
    "```\n",
    "1. n 입력받기\n",
    "2. n*(1+n)//2 출력\n",
    "```\n",
    "\n",
    "input: 10\n",
    "\n",
    "output: 55"
   ]
  },
  {
   "cell_type": "code",
   "execution_count": null,
   "id": "4152ae38",
   "metadata": {},
   "outputs": [
    {
     "name": "stdout",
     "output_type": "stream",
     "text": [
      "55\n",
      "55\n"
     ]
    }
   ],
   "source": [
    "# O(1) - 수학 공식\n",
    "n = int(input())\n",
    "print(n*(1+n)//2)\n",
    "\n",
    "# 다른 방법\n",
    "# O(n) - 반복문 사용\n",
    "sum = 0\n",
    "for i in range(1, n+1):\n",
    "    sum += i\n",
    "print(sum)"
   ]
  },
  {
   "cell_type": "markdown",
   "id": "45a6a1c6",
   "metadata": {},
   "source": [
    "### n의 약수 출력하기\n",
    "\n",
    "pseudo\n",
    "```\n",
    "1. n 입력받기\n",
    "2. 1부터 n+1까지 n 나눠보고 -> 나머지가 0이면 출력\n",
    "```\n",
    "input: 16\n",
    "\n",
    "output: 1 2 4 8 16"
   ]
  },
  {
   "cell_type": "code",
   "execution_count": 62,
   "id": "f8508f9f",
   "metadata": {},
   "outputs": [
    {
     "name": "stdout",
     "output_type": "stream",
     "text": [
      "1 2 4 8 16 \n",
      "1 16 2 8 4 \n",
      "1 16 2 8 4 "
     ]
    }
   ],
   "source": [
    "# O(n) - n+1까지 확인\n",
    "n = int(input())\n",
    "for i in range(1, n+1):\n",
    "    if n % i == 0:\n",
    "        print(i, end = ' ')\n",
    "\n",
    "print()\n",
    "\n",
    "# O(√n) - 최적화\n",
    "import math\n",
    "n = int(input())\n",
    "for i in range(1, int(math.sqrt(n)) + 1):  # √n번만 반복\n",
    "    if n % i == 0:\n",
    "        print(i, end=' ')\n",
    "        if i != n // i:  # 중복 제거\n",
    "            print(n // i, end=' ')\n",
    "\n",
    "print()\n",
    "     \n",
    "# 시도했던 방법 but math.sqrt()가 더 권장됨\n",
    "n = int(input())\n",
    "for i in range(1, int(n**0.5) + 1):  # int로 변환\n",
    "    if n % i == 0:\n",
    "        print(i, end=' ')\n",
    "        if i != n // i:\n",
    "            print(n // i, end=' ')\n",
    "\n",
    "# 2, 3번은 약수 출력이 뒤섞여 있어서 정렬도 추가해야함!"
   ]
  },
  {
   "cell_type": "markdown",
   "id": "0c5065a6",
   "metadata": {},
   "source": [
    "## 6. 중첩 반복문 (2중 for문)"
   ]
  },
  {
   "cell_type": "code",
   "execution_count": null,
   "id": "9a1817ad",
   "metadata": {},
   "outputs": [
    {
     "name": "stdout",
     "output_type": "stream",
     "text": [
      "1번째:  1 2 3 4 5 \n",
      "2번째:  1 2 3 4 5 \n",
      "3번째:  1 2 3 4 5 \n",
      "4번째:  1 2 3 4 5 \n",
      "5번째:  1 2 3 4 5 \n"
     ]
    }
   ],
   "source": [
    "for i in range(1, 6): \n",
    "    print(i,'번째: ', sep='', end=' ') # 인덱스\n",
    "    for j in range(1, 6): # 내부\n",
    "        print(j, end=' ')\n",
    "    print()"
   ]
  },
  {
   "cell_type": "code",
   "execution_count": 20,
   "id": "1984d307",
   "metadata": {},
   "outputs": [
    {
     "name": "stdout",
     "output_type": "stream",
     "text": [
      "* * * * * \n",
      "* * * * * \n",
      "* * * * * \n",
      "* * * * * \n",
      "* * * * * \n",
      "* \n",
      "* * \n",
      "* * * \n",
      "* * * * \n",
      "* * * * * \n",
      "* * * * * \n",
      "* * * * \n",
      "* * * \n",
      "* * \n",
      "* \n"
     ]
    }
   ],
   "source": [
    "# 별찍기\n",
    "for i in range(5):\n",
    "    for j in range(5):\n",
    "        print(\"*\", end=' ')\n",
    "    print()\n",
    "\n",
    "for i in range(1, 6):\n",
    "    for j in range(i):\n",
    "        print(\"*\", end=' ')\n",
    "    print()\n",
    "\n",
    "for i in range(5):\n",
    "    for j in range(5-i):\n",
    "        print(\"*\", end=' ')\n",
    "    print()"
   ]
  },
  {
   "cell_type": "markdown",
   "id": "ba1df967",
   "metadata": {},
   "source": [
    "## 7. 문자열과 내장함수"
   ]
  },
  {
   "cell_type": "code",
   "execution_count": 35,
   "id": "27323729",
   "metadata": {},
   "outputs": [
    {
     "name": "stdout",
     "output_type": "stream",
     "text": [
      "IT'S TIME!\n",
      "it's time!\n",
      "It's Time!\n"
     ]
    }
   ],
   "source": [
    "msg = \"It's Time!\"\n",
    "\n",
    "print(msg.upper())\n",
    "print(msg.lower())\n",
    "\n",
    "print(msg) # 원래 저장된 문자는 바뀌지 않는다"
   ]
  },
  {
   "cell_type": "code",
   "execution_count": null,
   "id": "33cc9ffe",
   "metadata": {},
   "outputs": [
    {
     "name": "stdout",
     "output_type": "stream",
     "text": [
      "IT'S TIME!\n",
      "1\n",
      "2\n",
      "It\n",
      "s T\n",
      "10\n"
     ]
    }
   ],
   "source": [
    "tmp = msg.upper()\n",
    "print(tmp)\n",
    "\n",
    "print(tmp.find('T')) # 첫 번째로 발견된 인덱스 반환 (없으면 -1)\n",
    "print(tmp.count('T'))\n",
    "print(msg[:2]) # 0 ~ 1까지 추출\n",
    "print(msg[3:6]) # 3 ~ 5까지 추출\n",
    "\n",
    "print(len(msg)) # 공백 포함 길이"
   ]
  },
  {
   "cell_type": "code",
   "execution_count": null,
   "id": "ba03dc20",
   "metadata": {},
   "outputs": [
    {
     "name": "stdout",
     "output_type": "stream",
     "text": [
      "I t ' s   T i m e ! "
     ]
    }
   ],
   "source": [
    "# 문자열에 접근하기 1\n",
    "for i in range(len(msg)):\n",
    "    print(msg[i], end=' ')"
   ]
  },
  {
   "cell_type": "code",
   "execution_count": 34,
   "id": "dccf6c20",
   "metadata": {},
   "outputs": [
    {
     "name": "stdout",
     "output_type": "stream",
     "text": [
      "I t ' s   T i m e ! "
     ]
    }
   ],
   "source": [
    "# 문자열에 접근하기 2\n",
    "for x in msg:\n",
    "    print(x, end=' ')"
   ]
  },
  {
   "cell_type": "code",
   "execution_count": null,
   "id": "1b4b6fd1",
   "metadata": {},
   "outputs": [
    {
     "name": "stdout",
     "output_type": "stream",
     "text": [
      "I T \n",
      "t s i m e "
     ]
    }
   ],
   "source": [
    "# 대문자만 출력\n",
    "for x in msg:\n",
    "    if x.isupper():\n",
    "        print(x, end=' ')\n",
    "print()\n",
    "\n",
    "# 소문자만 출력\n",
    "for x in msg:\n",
    "    if x.islower():\n",
    "        print(x, end=' ')"
   ]
  },
  {
   "cell_type": "code",
   "execution_count": 42,
   "id": "55292c4b",
   "metadata": {},
   "outputs": [
    {
     "name": "stdout",
     "output_type": "stream",
     "text": [
      "ItsTime"
     ]
    }
   ],
   "source": [
    "# 공백 제거\n",
    "for x in msg:\n",
    "    if x.isalpha():\n",
    "        print(x, end='')"
   ]
  },
  {
   "cell_type": "code",
   "execution_count": null,
   "id": "aa6d0af8",
   "metadata": {},
   "outputs": [
    {
     "name": "stdout",
     "output_type": "stream",
     "text": [
      "97\n",
      "122\n",
      "A\n"
     ]
    }
   ],
   "source": [
    "# 아스키 넘버 변환\n",
    "tmp = 'az'\n",
    "for x in tmp:\n",
    "    print(ord(x)) \n",
    "\n",
    "# 문자 변환\n",
    "tmp = 65\n",
    "print(chr(tmp))"
   ]
  },
  {
   "cell_type": "markdown",
   "id": "4cc6b2a1",
   "metadata": {},
   "source": [
    "## 8. 리스트와 내장함수 (1)"
   ]
  },
  {
   "cell_type": "markdown",
   "id": "0adc564c",
   "metadata": {},
   "source": [
    "리스트란?\n",
    "- 변수들을 묶어놓은 구조\n",
    "- `a[0]`, `a[5]` 이런식으로 사용"
   ]
  },
  {
   "cell_type": "code",
   "execution_count": null,
   "id": "12e6bc20",
   "metadata": {},
   "outputs": [
    {
     "name": "stdout",
     "output_type": "stream",
     "text": [
      "[1, 2, 3, 4, 5]\n",
      "5\n",
      "[1, 2, 3, 4, 5, 6, 7, 8, 9, 10]\n",
      "[1, 2, 3, 4, 5, 1, 2, 3, 4, 5, 6, 7, 8, 9, 10]\n"
     ]
    }
   ],
   "source": [
    "a = [1, 2, 3, 4, 5] # 리스트 정의\n",
    "print(a)\n",
    "print(a[4]) # 리스트 a의 4번 인덱스 출력\n",
    "\n",
    "b = list(range(1, 11)) # range로도 초기화 가능\n",
    "print(b)\n",
    "\n",
    "print(a+b) # 리스트를 합칠 수 있음"
   ]
  },
  {
   "cell_type": "code",
   "execution_count": 70,
   "id": "8d9aa9f3",
   "metadata": {},
   "outputs": [
    {
     "name": "stdout",
     "output_type": "stream",
     "text": [
      "[1, 2, 3, 4]\n",
      "[1, 2, 7, 3, 4]\n",
      "[1, 2, 7, 3]\n",
      "[1, 2, 3]\n",
      "[1, 3]\n",
      "1\n"
     ]
    }
   ],
   "source": [
    "c = [1, 2, 3]\n",
    "c.append(4) # 리스트의 끝에 4 삽입\n",
    "\n",
    "print(c)\n",
    "\n",
    "c.insert(2, 7) # 2번 인덱스에 7 삽입\n",
    "print(c)\n",
    "\n",
    "c.pop() # 리스트에서 마지막 요소 꺼내기\n",
    "print(c)\n",
    "\n",
    "c.pop(2)\n",
    "print(c)\n",
    "\n",
    "c.remove(2) # 값 2를 찾아서 제거 (O(n))\n",
    "print(c)\n",
    "\n",
    "print(c.index(3)) # 값 3이 위치한 인덱스 반환"
   ]
  },
  {
   "cell_type": "code",
   "execution_count": null,
   "id": "42e0e3c4",
   "metadata": {},
   "outputs": [
    {
     "name": "stdout",
     "output_type": "stream",
     "text": [
      "55\n",
      "1\n",
      "10\n"
     ]
    }
   ],
   "source": [
    "a = list(range(1, 11))\n",
    "print(sum(a))\n",
    "print(min(a))\n",
    "print(max(a))"
   ]
  },
  {
   "cell_type": "code",
   "execution_count": 73,
   "id": "457e348c",
   "metadata": {},
   "outputs": [
    {
     "name": "stdout",
     "output_type": "stream",
     "text": [
      "5\n",
      "5\n"
     ]
    }
   ],
   "source": [
    "print(min(7, 5)) # 인자 중에서 최솟값 찾음\n",
    "print(max(3, 4, 4, 5, 3))"
   ]
  },
  {
   "cell_type": "code",
   "execution_count": 77,
   "id": "41c0cd63",
   "metadata": {},
   "outputs": [
    {
     "name": "stdout",
     "output_type": "stream",
     "text": [
      "[4, 10, 3, 7, 9, 2, 6, 1, 8, 5]\n"
     ]
    }
   ],
   "source": [
    "import random as r\n",
    "\n",
    "r.shuffle(a) # 값을 무작위로 섞기\n",
    "print(a)"
   ]
  },
  {
   "cell_type": "code",
   "execution_count": null,
   "id": "cd39adf1",
   "metadata": {},
   "outputs": [
    {
     "name": "stdout",
     "output_type": "stream",
     "text": [
      "[1, 2, 3, 4, 5, 6, 7, 8, 9, 10]\n",
      "[10, 9, 8, 7, 6, 5, 4, 3, 2, 1]\n"
     ]
    }
   ],
   "source": [
    "a.sort() # 오름차순 정렬 (작은 것부터)\n",
    "print(a)\n",
    "\n",
    "a.sort(reverse = True) # 내림차순 정렬\n",
    "print(a)"
   ]
  },
  {
   "cell_type": "code",
   "execution_count": 81,
   "id": "c7b41d44",
   "metadata": {},
   "outputs": [
    {
     "name": "stdout",
     "output_type": "stream",
     "text": [
      "[]\n"
     ]
    }
   ],
   "source": [
    "a.clear() # 빈 리스트로 만들기\n",
    "print(a)"
   ]
  },
  {
   "cell_type": "markdown",
   "id": "ca8baaae",
   "metadata": {},
   "source": [
    "---\n",
    "\n",
    "### Stack (= LIFO) 자료구조 구현\n",
    "\n",
    "- `append()`와 `pop()`으로 스택 자료구조를 구현할 수 있음\n",
    "\n",
    "- 다르게 구현할 수도 있지만 사실상 `append()`, `pop()`이 스택 구현의 표준\n",
    "\n",
    "- 각각 O(1)의 시간복잡도를 가짐"
   ]
  },
  {
   "cell_type": "code",
   "execution_count": null,
   "id": "b2801675",
   "metadata": {},
   "outputs": [],
   "source": [
    "# 스택 구현\n",
    "stack = []\n",
    "\n",
    "# push 연산 (삽입)\n",
    "stack.append(1)  # [1]\n",
    "stack.append(2)  # [1, 2]\n",
    "stack.append(3)  # [1, 2, 3]\n",
    "print(stack)     # [1, 2, 3]\n",
    "\n",
    "# pop 연산 (제거)\n",
    "print(stack.pop())  # 3 (마지막 요소 제거)\n",
    "print(stack)        # [1, 2]\n",
    "print(stack.pop())  # 2\n",
    "print(stack)        # [1]"
   ]
  },
  {
   "cell_type": "markdown",
   "id": "bd3d15a6",
   "metadata": {},
   "source": [
    "### Additionaly,\n",
    "\n",
    "- `append()`와 `pop()`는 원래 동적 배열(Dynamic Array) 관리 목적으로 설계됨\n",
    "\n",
    "- 그러나 스택의 특성과 일치해서 스택 구현에 자주 사용됨!"
   ]
  },
  {
   "cell_type": "markdown",
   "id": "ccca3ffa",
   "metadata": {},
   "source": [
    "### 다른 언어와의 비교 (Java)"
   ]
  },
  {
   "cell_type": "code",
   "execution_count": null,
   "id": "8db34ffb",
   "metadata": {
    "vscode": {
     "languageId": "javascript"
    }
   },
   "outputs": [],
   "source": [
    "// Java - 명시적인 스택 클래스 제공\n",
    "Stack<Integer> stack = new Stack<>();\n",
    "stack.push(1);     // 스택용 메서드\n",
    "stack.pop();       // 스택용 메서드\n",
    "\n",
    "// ArrayList는 별도 (동적 배열)\n",
    "ArrayList<Integer> list = new ArrayList<>();\n",
    "list.add(1);       // 배열용 메서드\n",
    "list.remove(list.size()-1);  // 배열용 메서드"
   ]
  },
  {
   "cell_type": "markdown",
   "id": "85bedc99",
   "metadata": {},
   "source": [
    "## 9. 리스트와 내장함수 (2)"
   ]
  },
  {
   "cell_type": "code",
   "execution_count": null,
   "id": "e1fcb303",
   "metadata": {},
   "outputs": [
    {
     "name": "stdout",
     "output_type": "stream",
     "text": [
      "[23, 12, 36]\n",
      "[12, 36, 53]\n"
     ]
    }
   ],
   "source": [
    "a = [23, 12, 36, 53, 19]\n",
    "print(a[:3]) # 0~2까지 슬라이싱\n",
    "print(a[1:4]) # 1~3까지 슬라이싱"
   ]
  },
  {
   "cell_type": "code",
   "execution_count": null,
   "id": "e5e1ed89",
   "metadata": {},
   "outputs": [
    {
     "name": "stdout",
     "output_type": "stream",
     "text": [
      "23 12 36 53 19 \n",
      "23 12 36 53 19 "
     ]
    }
   ],
   "source": [
    "# 리스트 값 접근 1\n",
    "for i in range(len(a)):\n",
    "    print(a[i], end=' ')\n",
    "print()\n",
    "\n",
    "# 리스트 값 접근 2\n",
    "for x in a:\n",
    "    print(x, end=' ')"
   ]
  },
  {
   "cell_type": "code",
   "execution_count": null,
   "id": "180c89ce",
   "metadata": {},
   "outputs": [
    {
     "name": "stdout",
     "output_type": "stream",
     "text": [
      "23 53 19 "
     ]
    }
   ],
   "source": [
    "for x in a: # 리스트에서 홀수만 출력\n",
    "    if x % 2 == 1:\n",
    "        print(x, end=' ')"
   ]
  },
  {
   "cell_type": "code",
   "execution_count": 89,
   "id": "5e7f8c02",
   "metadata": {},
   "outputs": [
    {
     "name": "stdout",
     "output_type": "stream",
     "text": [
      "(0, 23)\n",
      "(1, 12)\n",
      "(2, 36)\n",
      "(3, 53)\n",
      "(4, 19)\n"
     ]
    }
   ],
   "source": [
    "# 인덱스 번호와 요소 함께 튜플 형태로 출력\n",
    "for x in enumerate(a):\n",
    "    print(x)"
   ]
  },
  {
   "cell_type": "code",
   "execution_count": 93,
   "id": "1d6b3ebf",
   "metadata": {},
   "outputs": [
    {
     "name": "stdout",
     "output_type": "stream",
     "text": [
      "4\n"
     ]
    }
   ],
   "source": [
    "# 리스트와 비교\n",
    "b = (1, 2, 3, 4, 5)\n",
    "print(b[3])\n",
    "\n",
    "# b[3] = 7 TypeError"
   ]
  },
  {
   "cell_type": "code",
   "execution_count": 95,
   "id": "2acda579",
   "metadata": {},
   "outputs": [
    {
     "name": "stdout",
     "output_type": "stream",
     "text": [
      "0 23\n",
      "1 12\n",
      "2 36\n",
      "3 53\n",
      "4 19\n"
     ]
    }
   ],
   "source": [
    "# 다른 방식으로 접근\n",
    "for x in enumerate(a):\n",
    "    print(x[0], x[1])"
   ]
  },
  {
   "cell_type": "code",
   "execution_count": 97,
   "id": "a71ddab4",
   "metadata": {},
   "outputs": [
    {
     "name": "stdout",
     "output_type": "stream",
     "text": [
      "0 23\n",
      "1 12\n",
      "2 36\n",
      "3 53\n",
      "4 19\n"
     ]
    }
   ],
   "source": [
    "# 많이 쓰이는 enumerate() 접근\n",
    "for index, value in enumerate(a):\n",
    "    print(index, value)"
   ]
  },
  {
   "cell_type": "code",
   "execution_count": null,
   "id": "5ead9341",
   "metadata": {},
   "outputs": [
    {
     "name": "stdout",
     "output_type": "stream",
     "text": [
      "NO\n"
     ]
    }
   ],
   "source": [
    "# all() 함수\n",
    "if all(50 > x for x in a): # 모두 참인가?\n",
    "    print(\"YES\")\n",
    "else:\n",
    "    print(\"NO\")"
   ]
  },
  {
   "cell_type": "code",
   "execution_count": null,
   "id": "4c67f5a3",
   "metadata": {},
   "outputs": [
    {
     "name": "stdout",
     "output_type": "stream",
     "text": [
      "YES\n"
     ]
    }
   ],
   "source": [
    "# any() 함수\n",
    "if any(20 < x for x in a): # 하나라도 참인가?\n",
    "    print(\"YES\")\n",
    "else:\n",
    "    print(\"NO\")"
   ]
  },
  {
   "cell_type": "markdown",
   "id": "52658d10",
   "metadata": {},
   "source": [
    "---\n",
    "\n",
    "### Tuple 자료구조\n",
    "\n",
    "- 리스트와 비슷하지만 변경할 수 없는 (immutable) 자료구조\n",
    "- 소괄호 () 사용\n",
    "- 빠르고 메모리 효율적"
   ]
  },
  {
   "cell_type": "code",
   "execution_count": null,
   "id": "42e496f1",
   "metadata": {},
   "outputs": [],
   "source": [
    "# 1. 소괄호 생략 가능\n",
    "t1 = 1, 2, 3, 4\n",
    "print(t1)        # (1, 2, 3, 4)\n",
    "print(type(t1))  # <class 'tuple'>\n",
    "\n",
    "# 2. 하나의 요소만 있을 때는 콤마 필수\n",
    "single = (1,)    # 콤마가 있어야 튜플\n",
    "print(type(single))  # <class 'tuple'>\n",
    "\n",
    "wrong = (1)      # 콤마가 없으면 그냥 정수\n",
    "print(type(wrong))   # <class 'int'>\n",
    "\n",
    "# 3. 빈 튜플\n",
    "empty = ()\n",
    "print(empty)     # ()\n",
    "print(type(empty))  # <class 'tuple'>"
   ]
  },
  {
   "cell_type": "markdown",
   "id": "d107699b",
   "metadata": {},
   "source": [
    "## 10. 2차원 리스트 생성과 접근"
   ]
  }
 ],
 "metadata": {
  "kernelspec": {
   "display_name": ".venv (3.11.6)",
   "language": "python",
   "name": "python3"
  },
  "language_info": {
   "codemirror_mode": {
    "name": "ipython",
    "version": 3
   },
   "file_extension": ".py",
   "mimetype": "text/x-python",
   "name": "python",
   "nbconvert_exporter": "python",
   "pygments_lexer": "ipython3",
   "version": "3.11.6"
  }
 },
 "nbformat": 4,
 "nbformat_minor": 5
}
