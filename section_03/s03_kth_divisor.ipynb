{
 "cells": [
  {
   "cell_type": "markdown",
   "id": "aa970762",
   "metadata": {},
   "source": [
    "## K번째 약수\n",
    "\n",
    "- 어떤 자연수 p와 q가 있을 때, 만일 p를 q로 나누었을 때 나머지가 0이면 q는 p의 약수이다.\n",
    "\n",
    "- 6을 예로 들면,\n",
    "\n",
    "```\n",
    "6 ÷ 1 = 6 … 0\n",
    "6 ÷ 2 = 3 … 0\n",
    "6 ÷ 3 = 2 … 0\n",
    "6 ÷ 4 = 1 … 2\n",
    "6 ÷ 5 = 1 … 1\n",
    "6 ÷ 6 = 1 … 0\n",
    "```\n",
    "\n",
    "- 그래서 6의 약수는 1, 2, 3, 6, 총 네 개이다.\n",
    "\n",
    "- 두 개의 자연수 N과 K가 주어졌을 때, N의 약수들 중 K번째로 작은 수를 출력하는 프로그램을\n",
    "작성하시오."
   ]
  },
  {
   "cell_type": "markdown",
   "id": "3e553347",
   "metadata": {},
   "source": [
    "### 입력설명\n",
    "\n",
    "- 첫째 줄에 N과 K가 빈칸을 사이에 두고 주어진다.\n",
    "\n",
    "- N은 1 이상 10,000 이하이다.\n",
    "\n",
    "- K는 1 이상 N 이하이다.\n",
    "\n",
    "### 출력설명\n",
    "\n",
    "- 첫째 줄에 N의 약수들 중 K번째로 작은 수를 출력한다.\n",
    "\n",
    "- 만일 N의 약수의 개수가 K개보다 적어서 K번째 약수가 존재하지 않을 경우에는 -1을 출력하시오."
   ]
  },
  {
   "cell_type": "markdown",
   "id": "f488214b",
   "metadata": {},
   "source": [
    "---\n",
    "\n",
    "pseudo\n",
    "\n",
    "- split으로 n k 입력받기\n",
    "- n % i == 0 인것만 리스트에 저장하기 (1~i for문)\n",
    "- 리스트[k-1] 값 출력\n",
    "- k-1번째 값 없을 경우 -1 출력\n",
    "\n",
    "---"
   ]
  },
  {
   "cell_type": "code",
   "execution_count": null,
   "id": "671c8040",
   "metadata": {},
   "outputs": [
    {
     "name": "stdout",
     "output_type": "stream",
     "text": [
      "3\n"
     ]
    }
   ],
   "source": [
    "# 내 풀이\n",
    "N, K = map(int, input().split())\n",
    "\n",
    "div = [i for i in range(1, N+1) if N % i == 0]\n",
    "div.sort() # 오류\n",
    "\n",
    "for x in div: # 오류\n",
    "    if div[K-1]:\n",
    "        print(div[K-1])\n",
    "        break\n",
    "    else: print(-1)"
   ]
  },
  {
   "cell_type": "code",
   "execution_count": null,
   "id": "e0f6843a",
   "metadata": {},
   "outputs": [],
   "source": [
    "# 수정 풀이 (시간 복잡도 O(N))\n",
    "N, K = map(int, input().split())\n",
    "div = [i for i in range(1, N+1) if N % i == 0]\n",
    "\n",
    "if len(div) >= K: # div 개수가 K와 같거나 더 많은가?\n",
    "    print(div[K-1])\n",
    "else:\n",
    "    print(-1)"
   ]
  },
  {
   "cell_type": "markdown",
   "id": "651eec05",
   "metadata": {},
   "source": [
    "- ✨ 인덱스 접근 전 범위 체크 `len(list) > index`\n",
    "\n",
    "- 결과는 맞게 나왔지만 `div[K-1]` 확인하는 부분에서 오류 -> 바로 접근하면 됨\n",
    "\n",
    "- 불필요한 반복문은 추가하지 말기\n",
    "\n",
    "- `sort()`도 필요 없음 (처음 reverse로 생각 잘못함)\n"
   ]
  },
  {
   "cell_type": "markdown",
   "id": "1b2a2523",
   "metadata": {},
   "source": [
    "### 강의 풀이"
   ]
  },
  {
   "cell_type": "code",
   "execution_count": null,
   "id": "5297e430",
   "metadata": {},
   "outputs": [],
   "source": [
    "N, K = map(int, input().split())\n",
    "count = 0                   # 약수 개수를 세는 카운터\n",
    "for i in range(1, N+1):\n",
    "    if N % i == 0:          # i가 N의 약수인가?\n",
    "        count += 1          # 약수를 찾았으니 카운터 증가\n",
    "    if count == K:          # K번째 약수를 찾았는가?\n",
    "        print(i)\n",
    "        break\n",
    "else:\n",
    "    print(-1)               # break 없이 루프가 끝나면 실행됨"
   ]
  },
  {
   "cell_type": "markdown",
   "id": "e548e000",
   "metadata": {},
   "source": [
    "- `for-else` 문법을 기억하자! - 파이써닉한 문법임\n",
    "    - 조건부 탐색 + 예외처리에서 사용\n",
    "\n",
    "- 조기 종료로 성능 최적화"
   ]
  },
  {
   "cell_type": "markdown",
   "id": "e07755ac",
   "metadata": {},
   "source": [
    "### 카운터 패턴"
   ]
  },
  {
   "cell_type": "code",
   "execution_count": null,
   "id": "cbf2c4f4",
   "metadata": {},
   "outputs": [],
   "source": [
    "count = 0                   # 초기화\n",
    "for item in items:\n",
    "    if condition:\n",
    "        count += 1          # 조건 만족할 때마다 누적\n",
    "        if count == target:\n",
    "            return item     # 원하는 순서에 도달"
   ]
  },
  {
   "cell_type": "code",
   "execution_count": null,
   "id": "7cae435c",
   "metadata": {},
   "outputs": [
    {
     "name": "stdout",
     "output_type": "stream",
     "text": [
      "1번째 짝수: 2\n",
      "2번째 짝수: 4\n",
      "3번째 짝수: 6\n"
     ]
    }
   ],
   "source": [
    "# 예시: 3번째 짝수 찾기\n",
    "count = 0\n",
    "for i in range(1, 21):\n",
    "    if i % 2 == 0:      # 짝수 발견\n",
    "        count += 1      # 짝수 개수 누적\n",
    "        print(f\"{count}번째 짝수: {i}\")\n",
    "        if count == 3:  # 3번째 짝수 찾음\n",
    "            break"
   ]
  }
 ],
 "metadata": {
  "kernelspec": {
   "display_name": ".venv (3.11.6)",
   "language": "python",
   "name": "python3"
  },
  "language_info": {
   "codemirror_mode": {
    "name": "ipython",
    "version": 3
   },
   "file_extension": ".py",
   "mimetype": "text/x-python",
   "name": "python",
   "nbconvert_exporter": "python",
   "pygments_lexer": "ipython3",
   "version": "3.11.6"
  }
 },
 "nbformat": 4,
 "nbformat_minor": 5
}
