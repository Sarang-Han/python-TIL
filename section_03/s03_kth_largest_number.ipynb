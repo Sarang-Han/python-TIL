{
 "cells": [
  {
   "cell_type": "markdown",
   "id": "0d2f4d94",
   "metadata": {},
   "source": [
    "## K번째 큰 수\n",
    "\n",
    "- 현수는 1부터 100사이의 자연수가 적힌 N장의 카드를 가지고 있습니다.\n",
    "\n",
    "- 같은 숫자의 카드가 여러장 있을 수 있습니다.\n",
    "\n",
    "- 현수는 이 중 3장을 뽑아 각 카드에 적힌 수를 합한 값을 기록하려고 합니다. 3장을 뽑을 수 있는 모든 경우를 기록합니다.\n",
    "\n",
    "- 기록한 값 중 K번째로 큰 수를 출력하는 프로그램을 작성하세요.\n",
    "\n",
    "- 만약 큰 수부터 만들어진 수가 25 25 23 23 22 20 19 ... 이고 K값이 3이라면 K번째 큰 값은 22입니다."
   ]
  },
  {
   "cell_type": "markdown",
   "id": "57c88849",
   "metadata": {},
   "source": [
    "### 입력 설명\n",
    "- 첫 줄에 자연수 N(3<=N<=100)과 K(1<=K<=50)가 입력되고, 그 다음 줄에 N개의 카드값이 입력된다.\n",
    "\n",
    "### 출력 설명\n",
    "- 첫 줄에 K번째 수를 출력합니다. K번째 수는 반드시 존재합니다.\n",
    "\n",
    "### 입력 예제 1\n",
    "\n",
    "```\n",
    "10 3\n",
    "13 15 34 23 45 65 33 11 26 42\n",
    "```\n",
    "\n",
    "### 출력 예제 1\n",
    "\n",
    "```\n",
    "143\n",
    "```"
   ]
  },
  {
   "cell_type": "markdown",
   "id": "c25e8637",
   "metadata": {},
   "source": [
    "---\n",
    "\n",
    "문제 이해\n",
    "\n",
    "- 주어진 N의 숫자들에서 가능한 모든 조합 (3개씩 뽑아서 더하기) 구하기\n",
    "\n",
    "- set()으로 중복 제거 -> k번째 숫자 구하기\n",
    "\n",
    "발상\n",
    "\n",
    "- 나열해서 규칙 찾아보기\n",
    "```\n",
    "ex. 1 2 3 4 5 (인덱스 0,1,2,3,4)\n",
    "(0,1,2) / (0,1,3) / (0,1,4)\n",
    "(0,2,3) / (0,2,4)\n",
    "(0,3,4)\n",
    "(1,2,3) / (1,2,4)\n",
    "(1,3,4)\n",
    "(2,3,4)\n",
    "\n",
    "ex. 1 2 3 4 5 6 (인덱스 0,1,2,3,4,5)\n",
    "(0,1,2) / (0,1,3) / (0,1,4) / (0,1,5)\n",
    "(0,2,3) / (0,2,4) / (0,2,5)\n",
    "(0,3,4) / (0,3,5)\n",
    "(0,4,5)\n",
    "(1,2,3) / (1,2,4) / (1,2,5)\n",
    "(1,3,4) / (1,3,5)\n",
    "(1,4,5)\n",
    "(2,3,4) / (2,3,5)\n",
    "(2,4,5)\n",
    "(3,4,5)\n",
    "```\n",
    "\n",
    "규칙: \n",
    "- 첫번째 인덱스 i: 0 ~ N-3\n",
    "- 두번째 인덱스 j: i+1 ~ N-2  \n",
    "- 세번째 인덱스 k: j+1 ~ N-1\n",
    "- 항상 i < j < k 순서 유지로 중복 방지\n",
    "\n",
    "---"
   ]
  },
  {
   "cell_type": "code",
   "execution_count": 23,
   "id": "cae2911e",
   "metadata": {},
   "outputs": [
    {
     "name": "stdout",
     "output_type": "stream",
     "text": [
      "143\n"
     ]
    }
   ],
   "source": [
    "# 직접 구현 by for문\n",
    "N, K = map(int, input().split())\n",
    "nums = list(map(int, input().split()))\n",
    "\n",
    "comb = []\n",
    "for i in range(N-2): # 첫번째 카드\n",
    "    for j in range(i+1, N-1): # 2번째 카드\n",
    "        for k in range(j+1, N): # 3번째 카드\n",
    "            comb.append(nums[i] + nums[j] + nums[k])\n",
    "comb = list(set(comb)) # 중복 제거\n",
    "comb.sort(reverse=True)\n",
    "print(comb[K-1])"
   ]
  },
  {
   "cell_type": "markdown",
   "id": "1e8de6c8",
   "metadata": {},
   "source": [
    "### 조합 - 중첩 for문 패턴\n",
    "\n",
    "- 조합을 구할 때 뽑는 개수만큼 중첩 for문을 쓰는 것은 정형화된 패턴임!"
   ]
  },
  {
   "cell_type": "code",
   "execution_count": null,
   "id": "29ac3fa6",
   "metadata": {},
   "outputs": [],
   "source": [
    "# 3개 뽑기 (nC3)\n",
    "for i in range(n-2):        # 첫 번째 원소\n",
    "    for j in range(i+1, n-1):    # 두 번째 원소 (i 다음부터)\n",
    "        for k in range(j+1, n):      # 세 번째 원소 (j 다음부터)\n",
    "            # i, j, k 조합 처리\n",
    "\n",
    "# 4개 뽑기 (nC4)\n",
    "for i in range(n-3):\n",
    "    for j in range(i+1, n-2):\n",
    "        for k in range(j+1, n-1):\n",
    "            for l in range(k+1, n):\n",
    "                # i, j, k, l 조합 처리"
   ]
  },
  {
   "cell_type": "markdown",
   "id": "ffdddad9",
   "metadata": {},
   "source": [
    "### 대안: `itertools.combinations`"
   ]
  },
  {
   "cell_type": "code",
   "execution_count": null,
   "id": "be4da600",
   "metadata": {},
   "outputs": [],
   "source": [
    "from itertools import combinations\n",
    "comb = set()\n",
    "\n",
    "# 3개 뽑기\n",
    "for combo in combinations(range(N), 3):\n",
    "    i, j, k = combo\n",
    "    comb.add(nums[i] + nums[j] + nums[k])"
   ]
  },
  {
   "cell_type": "markdown",
   "id": "8b84e025",
   "metadata": {},
   "source": [
    "### 강의 풀이"
   ]
  },
  {
   "cell_type": "code",
   "execution_count": 19,
   "id": "3ba2b503",
   "metadata": {},
   "outputs": [
    {
     "name": "stdout",
     "output_type": "stream",
     "text": [
      "143\n"
     ]
    }
   ],
   "source": [
    "# 강의 풀이\n",
    "N, K = map(int, input().split())\n",
    "nums = list(map(int, input().split()))\n",
    "comb = set() # set 자료구조 사용\n",
    "\n",
    "for i in range(N):\n",
    "    for j in range(i+1, N):\n",
    "        for k in range(j+1, N):\n",
    "            comb.add(nums[i] + nums[j] + nums[k])\n",
    "comb = list(sorted(comb, reverse = True))\n",
    "print(comb[K-1])"
   ]
  },
  {
   "cell_type": "markdown",
   "id": "9fe6ed3c",
   "metadata": {},
   "source": [
    "### 풀이 다시 써보기\n",
    "\n",
    "- 시간복잡도: O(N³ + M log M)"
   ]
  },
  {
   "cell_type": "code",
   "execution_count": 25,
   "id": "6b0f3415",
   "metadata": {},
   "outputs": [
    {
     "name": "stdout",
     "output_type": "stream",
     "text": [
      "143\n"
     ]
    }
   ],
   "source": [
    "N, K = map(int, input().split())\n",
    "nums = list(map(int, input().split()))\n",
    "comb = set()\n",
    "\n",
    "for i in range(N-2):\n",
    "    for j in range(i+1, N-1):\n",
    "        for k in range(j+1, N):\n",
    "            comb.add(nums[i] + nums[j] + nums[k])\n",
    "comb = list(sorted(comb, reverse=True))\n",
    "print(comb[K-1])"
   ]
  }
 ],
 "metadata": {
  "kernelspec": {
   "display_name": ".venv (3.11.6)",
   "language": "python",
   "name": "python3"
  },
  "language_info": {
   "codemirror_mode": {
    "name": "ipython",
    "version": 3
   },
   "file_extension": ".py",
   "mimetype": "text/x-python",
   "name": "python",
   "nbconvert_exporter": "python",
   "pygments_lexer": "ipython3",
   "version": "3.11.6"
  }
 },
 "nbformat": 4,
 "nbformat_minor": 5
}
