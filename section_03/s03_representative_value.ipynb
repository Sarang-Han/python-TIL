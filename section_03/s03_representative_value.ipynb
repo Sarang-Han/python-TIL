{
 "cells": [
  {
   "cell_type": "markdown",
   "id": "2914b7bf",
   "metadata": {},
   "source": [
    "## 대푯값\n",
    "\n",
    "- N명의 학생의 수학점수가 주어집니다.\n",
    "\n",
    "- N명의 학생들의 평균(소수 첫째자리 반올림)을 구하고, N명의 학생 중 평균에 가장 가까운 학생은 몇 번째 학생인지 출력하는 프로그램을 작성하세요.\n",
    "\n",
    "- 평균과 가장 가까운 점수가 여러 개일 경우 먼저 점수가 높은 학생의 번호를 답으로 하고,\n",
    "- 높은 점수를 가진 학생이 여러 명일 경우 그 중 학생번호가 빠른 학생의 번호를 답으로 합니다."
   ]
  },
  {
   "cell_type": "markdown",
   "id": "8b01824c",
   "metadata": {},
   "source": [
    "### 입력설명\n",
    "\n",
    "- 첫줄에 자연수 N(5<=N<=100)이 주어지고, 두 번째 줄에는 각 학생의 수학점수인 N개의 자연수가 주어집니다.\n",
    "- 학생의 번호는 앞에서부터 1로 시작해서 N까지입니다.\n",
    "\n",
    "### 출력설명\n",
    "\n",
    "- 첫줄에 평균과 평균에 가장 가까운 학생의 번호를 출력한다. 평균은 소수 첫째 자리에서 반올림합니다.\n",
    "\n",
    "### 입력예제 1\n",
    "\n",
    "```\n",
    "10\n",
    "45 73 66 87 92 67 75 79 75 80\n",
    "```\n",
    "\n",
    "### 출력예제 1\n",
    "\n",
    "```\n",
    "74 7\n",
    "```"
   ]
  },
  {
   "cell_type": "markdown",
   "id": "33d0eeb0",
   "metadata": {},
   "source": [
    "---\n",
    "\n",
    "psuedo\n",
    "\n",
    "- 학생 수 N과 각 학생의 수학 점수 입력받기\n",
    "- 각 학생의 수학 점수 평균 구하기 (N1 + N2 + ... + Nn / n)\n",
    "- (각각 점수 - 평균)의 절댓값 구하기\n",
    "- 여러 평균 가까운 점수 예외처리\n",
    "\n",
    "---"
   ]
  },
  {
   "cell_type": "code",
   "execution_count": 1,
   "id": "301f9a71",
   "metadata": {},
   "outputs": [
    {
     "name": "stdout",
     "output_type": "stream",
     "text": [
      "74 7\n"
     ]
    }
   ],
   "source": [
    "# 내 시도\n",
    "N = int(input())\n",
    "scores = list(map(int, input().split()))\n",
    "Max = 0\n",
    "\n",
    "mean = round(sum(scores) / N)\n",
    "diff = list(map(lambda x: abs(x - mean), scores))\n",
    "\n",
    "candidates = []\n",
    "for i in range(N):\n",
    "    if diff[i] == min(diff):\n",
    "        candidates.append((scores[i], i+1)) # 점수와 인덱스 저장\n",
    "\n",
    "for j, k in candidates:\n",
    "    if j > Max:\n",
    "        Max = j\n",
    "\n",
    "print(mean, scores.index(Max)+1)"
   ]
  },
  {
   "cell_type": "code",
   "execution_count": 4,
   "id": "d8e72baa",
   "metadata": {},
   "outputs": [
    {
     "name": "stdout",
     "output_type": "stream",
     "text": [
      "74 7\n"
     ]
    }
   ],
   "source": [
    "# 풀이 수정\n",
    "N = int(input())\n",
    "scores = list(map(int, input().split()))\n",
    "\n",
    "mean = round(sum(scores) / N)\n",
    "diff = list(map(lambda x: abs(x - mean), scores))\n",
    "\n",
    "candidates = []\n",
    "for i in range(N):\n",
    "    if diff[i] == min(diff):\n",
    "        candidates.append((scores[i], i+1)) # 점수와 인덱스 저장\n",
    "\n",
    "student = 0\n",
    "max_score = 0\n",
    "for score, idx in candidates:\n",
    "    if score > max_score:\n",
    "        max_score = score\n",
    "        student = idx\n",
    "\n",
    "print(mean, student)"
   ]
  },
  {
   "cell_type": "code",
   "execution_count": null,
   "id": "cc52da30",
   "metadata": {},
   "outputs": [],
   "source": [
    "# 좀 더 개선\n",
    "N = int(input())\n",
    "scores = list(map(int, input().split()))\n",
    "\n",
    "mean = round(sum(scores) / N)\n",
    "differences = [abs(score - mean) for score in scores]\n",
    "min_diff = min(differences)\n",
    "\n",
    "# 후보 학생들 찾기\n",
    "candidates = []\n",
    "for i in range(N):\n",
    "    if differences[i] == min_diff:\n",
    "        candidates.append((scores[i], i+1))\n",
    "\n",
    "# 우선순위에 따라 정렬: 점수 내림차순, 학생번호 오름차순\n",
    "candidates.sort(key=lambda x: (-x[0], x[1]))\n",
    "print(mean, candidates[0][1])"
   ]
  },
  {
   "cell_type": "markdown",
   "id": "cd3ce9ff",
   "metadata": {},
   "source": [
    "### 다중 조건 정렬"
   ]
  },
  {
   "cell_type": "markdown",
   "id": "775e7a2d",
   "metadata": {},
   "source": [
    "| 원하는 정렬 | key 함수 | 설명 |\n",
    "| --- | --- | --- |\n",
    "| 오름차순 | x 또는 x[0] | 작은 값부터 |\n",
    "| 내림차순 | -x 또는 -x[0] | 큰 값부터 |\n",
    "| 다중조건 | (-x[0], x[1]) | 첫 번째 내림차순, 두 번째 오름차순 |"
   ]
  },
  {
   "cell_type": "code",
   "execution_count": null,
   "id": "8d755039",
   "metadata": {},
   "outputs": [],
   "source": [
    "# 우선순위: 점수 내림차순 → 학생번호 오름차순\n",
    "students.sort(key=lambda x: (-x[0], x[1]))\n",
    "# 결과: [(76, 1), (76, 5), (75, 3), (74, 2)]\n",
    "#        ↑ 76점 중 1번이 5번보다 앞에 옴!"
   ]
  },
  {
   "cell_type": "code",
   "execution_count": null,
   "id": "8ee1f00c",
   "metadata": {},
   "outputs": [],
   "source": [
    "# 성적순 정렬 (점수 높은 순, 같으면 이름 가나다순)\n",
    "students = [(\"Alice\", 85), (\"Bob\", 90), (\"Charlie\", 85)]\n",
    "students.sort(key=lambda x: (-x[1], x[0]))\n",
    "# 결과: [(\"Bob\", 90), (\"Alice\", 85), (\"Charlie\", 85)]\n",
    "\n",
    "# 게임 랭킹 (승수 많은 순, 같으면 패수 적은 순)\n",
    "players = [(\"A\", 10, 5), (\"B\", 12, 3), (\"C\", 10, 2)]\n",
    "players.sort(key=lambda x: (-x[1], x[2]))\n",
    "# 결과: [(\"B\", 12, 3), (\"C\", 10, 2), (\"A\", 10, 5)]"
   ]
  },
  {
   "cell_type": "markdown",
   "id": "5fe80324",
   "metadata": {},
   "source": [
    "### 강의 풀이"
   ]
  },
  {
   "cell_type": "markdown",
   "id": "d2c284ec",
   "metadata": {},
   "source": [
    "- 리스트를 한번만 순회하면서 정답 찾기\n",
    "\n",
    "- 별도의 후보 리스트나 정렬 과정 X"
   ]
  },
  {
   "cell_type": "code",
   "execution_count": null,
   "id": "3a8eb8ba",
   "metadata": {},
   "outputs": [
    {
     "name": "stdout",
     "output_type": "stream",
     "text": [
      "74 7\n"
     ]
    }
   ],
   "source": [
    "# 강의 풀이 (O(N))\n",
    "N = int(input())\n",
    "scores = list(map(int, input().split()))\n",
    "\n",
    "mean = round(sum(scores)/N)\n",
    "min_diff = float('inf')\n",
    "\n",
    "for idx, x in enumerate(scores):\n",
    "    tmp = abs(x - mean)\n",
    "    if tmp < min_diff:\n",
    "        min_diff = tmp\n",
    "        score = x\n",
    "        res = idx + 1\n",
    "    elif tmp == min_diff: # 같은 거리일 떄\n",
    "        if x > score: # 점수가 더 클 때만 반영하기\n",
    "            score = x\n",
    "            res = idx + 1\n",
    "print(mean, res)"
   ]
  },
  {
   "cell_type": "code",
   "execution_count": null,
   "id": "128e2640",
   "metadata": {},
   "outputs": [],
   "source": [
    "scores = [45, 73, 66, 87, 92, 67, 75, 79, 75, 80]\n",
    "mean = 74\n",
    "\n",
    "# 초기값\n",
    "min_diff = inf, score = 0, res = 0\n",
    "\n",
    "# idx=0: 45점, diff=29\n",
    "# 29 < inf → 업데이트: min_diff=29, score=45, res=1\n",
    "\n",
    "# idx=1: 73점, diff=1  \n",
    "# 1 < 29 → 업데이트: min_diff=1, score=73, res=2\n",
    "\n",
    "# idx=2: 66점, diff=8\n",
    "# 8 > 1 → 변화 없음\n",
    "\n",
    "# idx=6: 75점, diff=1\n",
    "# 1 == 1 and 75 > 73 → 업데이트: score=75, res=7\n",
    "\n",
    "# 최종: 74 7"
   ]
  }
 ],
 "metadata": {
  "kernelspec": {
   "display_name": ".venv (3.11.6)",
   "language": "python",
   "name": "python3"
  },
  "language_info": {
   "codemirror_mode": {
    "name": "ipython",
    "version": 3
   },
   "file_extension": ".py",
   "mimetype": "text/x-python",
   "name": "python",
   "nbconvert_exporter": "python",
   "pygments_lexer": "ipython3",
   "version": "3.11.6"
  }
 },
 "nbformat": 4,
 "nbformat_minor": 5
}
