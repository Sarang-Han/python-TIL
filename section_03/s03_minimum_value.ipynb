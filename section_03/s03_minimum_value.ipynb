{
 "cells": [
  {
   "cell_type": "markdown",
   "id": "7406bed9",
   "metadata": {},
   "source": [
    "### [선수지식] 최솟값 구하기"
   ]
  },
  {
   "cell_type": "code",
   "execution_count": 2,
   "id": "ef2ba19a",
   "metadata": {},
   "outputs": [
    {
     "name": "stdout",
     "output_type": "stream",
     "text": [
      "2\n"
     ]
    }
   ],
   "source": [
    "arr = [ 5, 3, 7, 9, 2, 5, 2, 6 ]\n",
    "arrMin = float('inf') # 파이썬에서 가장 큰 값으로 초기화, arr[0] 초기화도 가능\n",
    "\n",
    "for i in range(len(arr)):\n",
    "    if arr[i] < arrMin:\n",
    "        arrMin = arr[i]\n",
    "print(arrMin)"
   ]
  },
  {
   "cell_type": "code",
   "execution_count": 3,
   "id": "710d1823",
   "metadata": {},
   "outputs": [
    {
     "name": "stdout",
     "output_type": "stream",
     "text": [
      "2\n"
     ]
    }
   ],
   "source": [
    "# Alternative\n",
    "arr = [ 5, 3, 7, 9, 2, 5, 2, 6 ]\n",
    "arrMin = float('inf')\n",
    "\n",
    "for x in arr:\n",
    "    if x < arrMin:\n",
    "        arrMin = x\n",
    "print(arrMin)"
   ]
  }
 ],
 "metadata": {
  "kernelspec": {
   "display_name": ".venv (3.11.6)",
   "language": "python",
   "name": "python3"
  },
  "language_info": {
   "codemirror_mode": {
    "name": "ipython",
    "version": 3
   },
   "file_extension": ".py",
   "mimetype": "text/x-python",
   "name": "python",
   "nbconvert_exporter": "python",
   "pygments_lexer": "ipython3",
   "version": "3.11.6"
  }
 },
 "nbformat": 4,
 "nbformat_minor": 5
}
