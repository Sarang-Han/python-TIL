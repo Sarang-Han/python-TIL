{
 "cells": [
  {
   "cell_type": "markdown",
   "id": "09be5f81",
   "metadata": {},
   "source": [
    "## 소수 (에라토스테네스 체)\n",
    "\n",
    "- 자연수 N이 입력되면 1부터 N까지의 소수의 개수를 출력하는 프로그램을 작성하세요.\n",
    "\n",
    "- 만약 20이 입력되면 1부터 20까지의 소수는 2, 3, 5, 7, 11, 13, 17, 19로 총 8개입니다.\n",
    "\n",
    "- 제한시간은 1초입니다."
   ]
  },
  {
   "cell_type": "markdown",
   "id": "3c198d83",
   "metadata": {},
   "source": [
    "### 입력설명\n",
    "\n",
    "- 첫 줄에 자연수의 개수 N(2<=N<=200,000)이 주어집니다.\n",
    "\n",
    "### 출력설명\n",
    "\n",
    "- 첫 줄에 소수의 개수를 출력합니다.\n",
    "\n",
    "### 입력예제 1\n",
    "\n",
    "```\n",
    "20\n",
    "```\n",
    "### 출력예제 1\n",
    "\n",
    "```\n",
    "8\n",
    "```"
   ]
  },
  {
   "cell_type": "markdown",
   "id": "fdf6657e",
   "metadata": {},
   "source": [
    "---\n",
    "\n",
    "pseudo\n",
    "\n",
    "- 2부터 N까지의 정수들에 대해 is_prime[2..N] = true 로 초기화한다.\n",
    "- p = 2부터 시작해서 p ≤ √N 인 동안 반복:\n",
    "    - 만약 is_prime[p]가 true이면, p의 배수들(단, p 자신은 제외)을 모두 false로 표시한다.\n",
    "    - 다음 p로 이동(일반적으로 p++ 또는 다음으로 is_prime이 true인 값).\n",
    "- 루프가 끝나면 is_prime[i]가 true인 i들이 소수이다.\n",
    "---"
   ]
  },
  {
   "cell_type": "markdown",
   "id": "7ed45953",
   "metadata": {},
   "source": [
    "### 정석적인 알고리즘\n",
    "\n",
    "- 시간 복잡도 O(NloglogN)\n",
    "\n",
    "- 그냥 외우자!"
   ]
  },
  {
   "cell_type": "code",
   "execution_count": null,
   "id": "2ba68989",
   "metadata": {},
   "outputs": [
    {
     "name": "stdout",
     "output_type": "stream",
     "text": [
      "8\n"
     ]
    }
   ],
   "source": [
    "import math\n",
    "N = int(input())\n",
    "\n",
    "# 1. 초기화\n",
    "is_prime = [True] * (N + 1)\n",
    "is_prime[0] = False\n",
    "is_prime[1] = False\n",
    "\n",
    "# 2. 에라토스테네스의 체\n",
    "for p in range(2, int(math.sqrt(N)) + 1): # 루트 N까지만\n",
    "    if is_prime[p]:                       # 소수(True일 때만)\n",
    "        for k in range(p * p, N + 1, p):  # P*P부터 시작 ex) 2 4 6 8 ...\n",
    "            is_prime[k] = False\n",
    "\n",
    "# 3. 소수 개수 출력\n",
    "print(sum(is_prime))"
   ]
  },
  {
   "cell_type": "markdown",
   "id": "5ef7e61f",
   "metadata": {},
   "source": [
    "### 강의 코드"
   ]
  },
  {
   "cell_type": "markdown",
   "id": "4161b93b",
   "metadata": {},
   "source": [
    "- 1부터 n까지 0으로 초기화된 ch 리스트\n",
    "- for i = 2 ~ n (1은 소수가 아님)\n",
    "    - if ch[i] == 0\n",
    "        - cnt += 1 (소수의 개수)\n",
    "        - for j (i의 배수)"
   ]
  },
  {
   "cell_type": "code",
   "execution_count": 3,
   "id": "311b78f9",
   "metadata": {},
   "outputs": [
    {
     "name": "stdout",
     "output_type": "stream",
     "text": [
      "8\n"
     ]
    }
   ],
   "source": [
    "n = int(input())\n",
    "ch = [0] * (n+1)\n",
    "cnt = 0\n",
    "\n",
    "for i in range(2, n+1):\n",
    "    if ch[i] == 0:\n",
    "        cnt += 1\n",
    "        for j in range(i, n+1, i):\n",
    "            ch[j] = 1\n",
    "print(cnt)"
   ]
  }
 ],
 "metadata": {
  "kernelspec": {
   "display_name": ".venv (3.11.6)",
   "language": "python",
   "name": "python3"
  },
  "language_info": {
   "codemirror_mode": {
    "name": "ipython",
    "version": 3
   },
   "file_extension": ".py",
   "mimetype": "text/x-python",
   "name": "python",
   "nbconvert_exporter": "python",
   "pygments_lexer": "ipython3",
   "version": "3.11.6"
  }
 },
 "nbformat": 4,
 "nbformat_minor": 5
}
