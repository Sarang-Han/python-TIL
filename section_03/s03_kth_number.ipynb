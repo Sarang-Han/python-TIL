{
 "cells": [
  {
   "cell_type": "markdown",
   "id": "81ce68f0",
   "metadata": {},
   "source": [
    "## K번째 수\n",
    "\n",
    "- N개의 숫자로 이루어진 숫자열이 주어지면,\n",
    "\n",
    "- 해당 숫자열중에서 s번째부터 e번째 까지의 수를 오름차순 정렬했을 때,\n",
    "\n",
    "- k번째로 나타나는 숫자를 출력하는 프로그램을 작성하세요."
   ]
  },
  {
   "cell_type": "markdown",
   "id": "88b15c58",
   "metadata": {},
   "source": [
    "### 입력설명\n",
    "\n",
    "- 첫 번째 줄에 테스트 케이스 T(1<=T<=10)이 주어집니다.\n",
    "\n",
    "- 각 케이스별\n",
    "    - 첫 번째 줄은 자연수 N(5<=N<=500), s, e, k가 차례로 주어진다.\n",
    "    - 두 번째 줄에 N개의 숫자가 차례로 주어진다.\n",
    "\n",
    "### 출력설명\n",
    "\n",
    "- 각 케이스별 k번째 수를 아래 출력 예제와 같이 출력.\n",
    "\n",
    "### 입력예제 1\n",
    "2 <br>\n",
    "6 2 5 3 <br>\n",
    "5 2 7 3 8 9 <br>\n",
    "15 3 10 3 <br>\n",
    "4 15 8 16 6 6 17 3 10 11 18 7 14 7 15 <br>\n",
    "\n",
    "### 출력예제 1\n",
    "#1 7 <br>\n",
    "#2 6 <br>"
   ]
  },
  {
   "cell_type": "markdown",
   "id": "517a7583",
   "metadata": {},
   "source": [
    "---\n",
    "\n",
    "psuedo\n",
    "\n",
    "- T 입력 받아서 반복 돌리기\n",
    "    - N, s, e, k split()으로 입력받기\n",
    "    - N 리스트 초기화, N 값 split()으로 입력받기\n",
    "    - N[s-1:e] 슬라이싱, sort()\n",
    "    - N[k-1] 출력\n",
    "\n",
    "---"
   ]
  },
  {
   "cell_type": "code",
   "execution_count": 11,
   "id": "b0762440",
   "metadata": {},
   "outputs": [
    {
     "name": "stdout",
     "output_type": "stream",
     "text": [
      "#1 7\n",
      "#2 6\n"
     ]
    }
   ],
   "source": [
    "# 내 풀이\n",
    "T = int(input())\n",
    "\n",
    "for i in range(T):\n",
    "    N, s, e, k = map(int, input().split())\n",
    "    num = list(map(int, input().split()))\n",
    "    num = num[s-1:e]\n",
    "    num.sort()\n",
    "    print(f\"#{i+1} {num[k-1]}\")"
   ]
  },
  {
   "cell_type": "markdown",
   "id": "8057977b",
   "metadata": {},
   "source": [
    "### Additionaly,"
   ]
  },
  {
   "cell_type": "code",
   "execution_count": null,
   "id": "5437f22c",
   "metadata": {},
   "outputs": [],
   "source": [
    "# 약간의 개선\n",
    "num = sorted(num[s-1:e])"
   ]
  },
  {
   "cell_type": "code",
   "execution_count": null,
   "id": "37bbb99c",
   "metadata": {},
   "outputs": [],
   "source": [
    "# 방법 1: f-string 사용\n",
    "print(f\"#{i+1} {num[k-1]}\")\n",
    "\n",
    "# 방법 2: format() 사용  \n",
    "print(\"#{} {}\".format(i+1, num[k-1]))\n",
    "\n",
    "# 방법 3: % 포매팅\n",
    "print(\"#%d %d\" % (i+1, num[k-1]))"
   ]
  }
 ],
 "metadata": {
  "kernelspec": {
   "display_name": ".venv (3.11.6)",
   "language": "python",
   "name": "python3"
  },
  "language_info": {
   "codemirror_mode": {
    "name": "ipython",
    "version": 3
   },
   "file_extension": ".py",
   "mimetype": "text/x-python",
   "name": "python",
   "nbconvert_exporter": "python",
   "pygments_lexer": "ipython3",
   "version": "3.11.6"
  }
 },
 "nbformat": 4,
 "nbformat_minor": 5
}
