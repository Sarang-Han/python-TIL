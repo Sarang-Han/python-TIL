{
 "cells": [
  {
   "cell_type": "markdown",
   "id": "eda89a14",
   "metadata": {},
   "source": [
    "## 정다면체\n",
    "\n",
    "- 두 개의 정 N면체와 정 M면체의 두 개의 주사위를 던져서 나올 수 있는 눈의 합 중,\n",
    "\n",
    "- 가장 확률이 높은 숫자를 출력하는 프로그램을 작성하세요.\n",
    "\n",
    "- 정답이 여러 개일 경우 오름차순으로 출력합니다."
   ]
  },
  {
   "cell_type": "markdown",
   "id": "e8544acf",
   "metadata": {},
   "source": [
    "### 입력설명\n",
    "\n",
    "- 첫 번째 줄에는 자연수 N과 M이 주어집니다. N과 M은 4, 6, 8, 12, 20 중의 하나입니다.\n",
    "\n",
    "### 출력설명\n",
    "\n",
    "- 첫 번째 줄에 답을 출력합니다.\n",
    "\n",
    "### 입력예제 1\n",
    "\n",
    "```\n",
    "4 6\n",
    "```\n",
    "\n",
    "### 출력예제 1\n",
    "\n",
    "```\n",
    "5 6 7\n",
    "```"
   ]
  },
  {
   "cell_type": "markdown",
   "id": "b8c1543e",
   "metadata": {},
   "source": [
    "---\n",
    "\n",
    "문제 이해\n",
    "\n",
    "- N = 4면 5부터 시작 M+1에서 끝?\n",
    "- N = M이면 N+1 출력?\n",
    "- n이 m보다 크면 교환\n",
    "- n = 6, m = 8 / 7 8 9 => 가설 맞음\n",
    "- n = 4, m = 4 / 5\n",
    "- n = 6, m = 6 / 7\n",
    "- n = m일때 n+1\n",
    "\n",
    "```\n",
    "2 3 4 5 6 7 8 9 10 11 12 13 14 15 16 17 18 19 20 21\n",
    "3 4 5 6 7 8 9 10 11 12 13 14 15 16 17 18 19 20 21 22\n",
    "4 5 6 7 8 9 10 11 12 13 14 15 16 17 18 19 20 21 22 23\n",
    "5 6 7 8 9 10 11 12 13 14 15 16 17 18 19 20 21 22 23 24\n",
    "```\n",
    "\n",
    "---"
   ]
  },
  {
   "cell_type": "code",
   "execution_count": null,
   "id": "08b6dd91",
   "metadata": {},
   "outputs": [
    {
     "name": "stdout",
     "output_type": "stream",
     "text": [
      "5 6 7 "
     ]
    }
   ],
   "source": [
    "# 나의 풀이 (나열을 통한 패턴 인식)\n",
    "N, M = map(int, input().split())\n",
    "tmp = 0\n",
    "if N == M:\n",
    "    print(N+1)\n",
    "    exit()\n",
    "\n",
    "if N > M:\n",
    "    tmp = M\n",
    "    M = N\n",
    "    N = tmp\n",
    "for i in range(N+1, M+2):\n",
    "        print(i, end = ' ')"
   ]
  },
  {
   "cell_type": "markdown",
   "id": "8057cadd",
   "metadata": {},
   "source": [
    "- 시간 복잡도 측면에서 괜찮긴 한데, 너무 패턴/직관에만 의존하지 말자\n",
    "\n",
    "- 케이스 커버력 자체는 good"
   ]
  },
  {
   "cell_type": "markdown",
   "id": "dcc4533e",
   "metadata": {},
   "source": [
    "### 구현 일부 개선"
   ]
  },
  {
   "cell_type": "code",
   "execution_count": null,
   "id": "65ab2db4",
   "metadata": {},
   "outputs": [],
   "source": [
    "N, M = map(int, input().split())\n",
    "\n",
    "if N > M:\n",
    "    N, M = M, N  # swap\n",
    "\n",
    "if N == M:\n",
    "    print(N+1)\n",
    "else:\n",
    "    print(*range(N+1, M+2))  # *로 언패킹"
   ]
  },
  {
   "cell_type": "markdown",
   "id": "e67de00a",
   "metadata": {},
   "source": [
    "### 강의 풀이"
   ]
  },
  {
   "cell_type": "markdown",
   "id": "142aaaf8",
   "metadata": {},
   "source": [
    "- cnt 리스트를 만들어서 나온 수 +1 => 최대 cnt의 값 반환\n",
    "\n",
    "- 시간 복잡도 O(NxM)"
   ]
  },
  {
   "cell_type": "code",
   "execution_count": null,
   "id": "2bd12c8f",
   "metadata": {},
   "outputs": [
    {
     "name": "stdout",
     "output_type": "stream",
     "text": [
      "5 6 7\n"
     ]
    }
   ],
   "source": [
    "# 강의에서 알려준 접근법으로 직접 구현\n",
    "N, M = map(int, input().split())\n",
    "cnt = [0] * (N+M+1)\n",
    "\n",
    "for i in range(1, N+1): # N면체의 각 면\n",
    "    for j in range(i+1, M+i+1): # 해당 면에서 가능한 모든 합\n",
    "        cnt[j] += 1 # 합 직접 리스트에 카운트\n",
    "\n",
    "max_num = max(cnt)\n",
    "res = []\n",
    "for k in range(len(cnt)):\n",
    "    if cnt[k] == max_num:\n",
    "        res.append(k)\n",
    "\n",
    "print(*res)"
   ]
  },
  {
   "cell_type": "code",
   "execution_count": null,
   "id": "601a804c",
   "metadata": {},
   "outputs": [
    {
     "name": "stdout",
     "output_type": "stream",
     "text": [
      "5 6 7 "
     ]
    }
   ],
   "source": [
    "# 실제 강의 풀이\n",
    "N, M = map(int, input().split())\n",
    "cnt = [0] * (N+M+1)\n",
    "max_num = 0\n",
    "\n",
    "for i in range(1, N+1): # N면체의 각 면\n",
    "    for j in range(1, M+1): # M면체의 각 면\n",
    "        cnt[i+j] += 1 # 눈의 합을 인덱스로\n",
    "        \n",
    "for i in range(N+M+1):\n",
    "    if cnt[i] > max_num:\n",
    "        max_num = cnt[i]\n",
    "        \n",
    "for i in range(N+M+1):\n",
    "    if cnt[i] == max_num:\n",
    "        print(i, end=' ')"
   ]
  },
  {
   "cell_type": "markdown",
   "id": "c660008b",
   "metadata": {},
   "source": [
    "### 브루트 포스(Brute Force)\n",
    "\n",
    "- 브루트 포스 = \"무식한 힘\" = 모든 경우를 다 해보기\n",
    "\n",
    "- 가능한 모든 경우의 수를 체크\n",
    "\n",
    "- 확실하지만 느림"
   ]
  },
  {
   "cell_type": "code",
   "execution_count": null,
   "id": "f0b570c1",
   "metadata": {},
   "outputs": [],
   "source": [
    "# 기본 형태\n",
    "for 모든경우1:\n",
    "    for 모든경우2:\n",
    "        결과계산()\n",
    "        최적값_갱신()"
   ]
  }
 ],
 "metadata": {
  "kernelspec": {
   "display_name": ".venv (3.11.6)",
   "language": "python",
   "name": "python3"
  },
  "language_info": {
   "codemirror_mode": {
    "name": "ipython",
    "version": 3
   },
   "file_extension": ".py",
   "mimetype": "text/x-python",
   "name": "python",
   "nbconvert_exporter": "python",
   "pygments_lexer": "ipython3",
   "version": "3.11.6"
  }
 },
 "nbformat": 4,
 "nbformat_minor": 5
}
