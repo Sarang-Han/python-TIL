{
 "cells": [
  {
   "cell_type": "markdown",
   "id": "92bfdab6",
   "metadata": {},
   "source": [
    "## 자릿수의 합\n",
    "\n",
    "- N개의 자연수가 입력되면 각 자연수의 자릿수의 합을 구하고,\n",
    "\n",
    "- 그 합이 최대인 자연수를 출력하는 프로그램을 작성하세요.\n",
    "\n",
    "- 각 자연수의 자릿수의 합을 구하는 함수를 def digit_sum(x)로 작성하세요."
   ]
  },
  {
   "cell_type": "markdown",
   "id": "b20e0a67",
   "metadata": {},
   "source": [
    "### 입력설명\n",
    "\n",
    "- 첫 줄에 자연수의 개수 N(3<=N<=100)이 주어지고, 그 다음 줄에 N개의 자연수가 주어진다.\n",
    "\n",
    "- 각 자연수의 크기는 10,000,000를 넘지 않는다.\n",
    "\n",
    "### 출력설명\n",
    "\n",
    "- 자릿수의 합이 최대인 자연수를 출력한다.\n",
    "\n",
    "- 자릿수의 합이 같을 경우 입력순으로 먼저인 숫자를 출력한다.\n",
    "\n",
    "### 입력예제 1\n",
    "\n",
    "```\n",
    "3\n",
    "125 15232 97\n",
    "```\n",
    "\n",
    "### 출력예제 1\n",
    "\n",
    "```\n",
    "97\n",
    "```"
   ]
  },
  {
   "cell_type": "markdown",
   "id": "ac075333",
   "metadata": {},
   "source": [
    "---\n",
    "pseudo\n",
    "\n",
    "- N과 nums를 입력받는다.\n",
    "\n",
    "- nums를 돌리면서 새로운 sums 배열에 각 자릿수 합을 넣는다.\n",
    "\n",
    "- sums 배열에서 max의 인덱스 번호를 구한 뒤 원래 nums 배열에서 해당 인덱스를 통해 숫자를 출력한다\n",
    "\n",
    "---"
   ]
  },
  {
   "cell_type": "code",
   "execution_count": null,
   "id": "b7139a73",
   "metadata": {},
   "outputs": [
    {
     "name": "stdout",
     "output_type": "stream",
     "text": [
      "23\n"
     ]
    }
   ],
   "source": [
    "# 내 풀이\n",
    "def digit_sum(N, nums):\n",
    "    sums = 0\n",
    "    res = []\n",
    "    for n in nums:\n",
    "        sums = list(n)\n",
    "        res.append(sum(map(int, sums)))\n",
    "    return print(nums[res.index(max(res))])\n",
    "\n",
    "N = int(input())\n",
    "nums = input().split()\n",
    "\n",
    "digit_sum(N, nums)"
   ]
  },
  {
   "cell_type": "markdown",
   "id": "14c84d0f",
   "metadata": {},
   "source": [
    "- 내가 알고 있었던 것: 각 자릿수 합을 구하는 방법은 문자열을 돌리면서 리스트화 -> 숫자로 만든 뒤 sum\n",
    "\n",
    "- 그런데 막상 작성해보니 로직이 별로 눈에 안들어오고 비효율적으로 보임... 개선 필요"
   ]
  },
  {
   "cell_type": "markdown",
   "id": "28eac7ce",
   "metadata": {},
   "source": [
    "### 일부 개선\n",
    "\n",
    "- 빠른 구현 고려\n",
    "\n",
    "- \"동점일 때 입력순 우선\" 조건 명확히 처리"
   ]
  },
  {
   "cell_type": "code",
   "execution_count": 3,
   "id": "d1e97586",
   "metadata": {},
   "outputs": [
    {
     "name": "stdout",
     "output_type": "stream",
     "text": [
      "97\n"
     ]
    }
   ],
   "source": [
    "def digit_sum_v2(x):\n",
    "    return sum(int(digit) for digit in str(x))\n",
    "\n",
    "N = int(input())\n",
    "nums = list(map(int, input().split()))\n",
    "\n",
    "max_sum = 0\n",
    "result = nums[0]  # 첫 번째 수로 초기화\n",
    "\n",
    "for num in nums:\n",
    "    current_sum = digit_sum_v2(num)\n",
    "    if current_sum > max_sum:  # 더 클 때만 갱신 (동점일 때는 먼저 입력된 것 유지)\n",
    "        max_sum = current_sum\n",
    "        result = num\n",
    "\n",
    "print(result)"
   ]
  },
  {
   "cell_type": "markdown",
   "id": "0e4f87d5",
   "metadata": {},
   "source": [
    "### 강의 풀이"
   ]
  },
  {
   "cell_type": "code",
   "execution_count": null,
   "id": "48b2011b",
   "metadata": {},
   "outputs": [
    {
     "name": "stdout",
     "output_type": "stream",
     "text": [
      "97\n"
     ]
    }
   ],
   "source": [
    "N = int(input())\n",
    "nums = list(map(int,input().split()))\n",
    "max = 0\n",
    "def digit_sum_lec(x):\n",
    "    sum = 0\n",
    "    while x > 0: # 각 자리 숫자 하나씩 sum에 누적\n",
    "        sum += x % 10\n",
    "        x //= 10\n",
    "    return sum\n",
    "\n",
    "for x in nums:\n",
    "    total = digit_sum2(x)\n",
    "    if total > max: # 최댓값 찾기\n",
    "        max = total\n",
    "        res = x\n",
    "print(res)"
   ]
  },
  {
   "cell_type": "markdown",
   "id": "e3225665",
   "metadata": {},
   "source": [
    "### 자릿수 합 처리 패턴\n",
    "\n",
    "- 큰 숫자, 성능에는 더 나음"
   ]
  },
  {
   "cell_type": "code",
   "execution_count": null,
   "id": "abc76287",
   "metadata": {},
   "outputs": [],
   "source": [
    "while x > 0:\n",
    "    sum += x % 10  # 마지막 자릿수\n",
    "    x //= 10       # 마지막 자릿수 제거"
   ]
  }
 ],
 "metadata": {
  "kernelspec": {
   "display_name": ".venv (3.11.6)",
   "language": "python",
   "name": "python3"
  },
  "language_info": {
   "codemirror_mode": {
    "name": "ipython",
    "version": 3
   },
   "file_extension": ".py",
   "mimetype": "text/x-python",
   "name": "python",
   "nbconvert_exporter": "python",
   "pygments_lexer": "ipython3",
   "version": "3.11.6"
  }
 },
 "nbformat": 4,
 "nbformat_minor": 5
}
